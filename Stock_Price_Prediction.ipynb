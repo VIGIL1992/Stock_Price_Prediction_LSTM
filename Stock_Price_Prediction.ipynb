{
  "cells": [
    {
      "cell_type": "markdown",
      "metadata": {
        "id": "view-in-github",
        "colab_type": "text"
      },
      "source": [
        "<a href=\"https://colab.research.google.com/github/VIGIL1992/Stock_Price_Prediction_LSTM/blob/main/Stock_Price_Prediction.ipynb\" target=\"_parent\"><img src=\"https://colab.research.google.com/assets/colab-badge.svg\" alt=\"Open In Colab\"/></a>"
      ]
    },
    {
      "cell_type": "markdown",
      "metadata": {
        "id": "Zta4h2ZZfcWw"
      },
      "source": [
        "Stock Market Prediction And Forecasting Using Stacked LSTM"
      ]
    },
    {
      "cell_type": "code",
      "execution_count": null,
      "metadata": {
        "id": "mTmaPh_4ZXP2"
      },
      "outputs": [],
      "source": [
        "#import pandas_datareader as pdr\n",
        "import yfinance as yf\n",
        "import pandas as pd\n"
      ]
    },
    {
      "cell_type": "code",
      "execution_count": null,
      "metadata": {
        "id": "sGIgfrjhfkr1"
      },
      "outputs": [],
      "source": [
        "tata_motors_nse = yf.Ticker(\"TATAMOTORS.BO\")"
      ]
    },
    {
      "cell_type": "code",
      "execution_count": null,
      "metadata": {
        "id": "ZlDYSzCOfkup"
      },
      "outputs": [],
      "source": [
        "#tata_motors_nse.to_csv('tata_motors_nse.csv')"
      ]
    },
    {
      "cell_type": "code",
      "execution_count": null,
      "metadata": {
        "id": "7VGdCwyLfkxo"
      },
      "outputs": [],
      "source": [
        "df = tata_motors_nse.history(period=\"max\")\n"
      ]
    },
    {
      "cell_type": "code",
      "execution_count": null,
      "metadata": {
        "colab": {
          "base_uri": "https://localhost:8080/",
          "height": 666
        },
        "id": "o2Q7xeDQfk0r",
        "outputId": "03e36426-b2eb-49d8-c588-f9f527d6ced8"
      },
      "outputs": [
        {
          "data": {
            "text/html": [
              "\n",
              "  <div id=\"df-2cdffae2-9ed4-456a-b3fd-b533db422b68\" class=\"colab-df-container\">\n",
              "    <div>\n",
              "<style scoped>\n",
              "    .dataframe tbody tr th:only-of-type {\n",
              "        vertical-align: middle;\n",
              "    }\n",
              "\n",
              "    .dataframe tbody tr th {\n",
              "        vertical-align: top;\n",
              "    }\n",
              "\n",
              "    .dataframe thead th {\n",
              "        text-align: right;\n",
              "    }\n",
              "</style>\n",
              "<table border=\"1\" class=\"dataframe\">\n",
              "  <thead>\n",
              "    <tr style=\"text-align: right;\">\n",
              "      <th></th>\n",
              "      <th>Open</th>\n",
              "      <th>High</th>\n",
              "      <th>Low</th>\n",
              "      <th>Close</th>\n",
              "      <th>Volume</th>\n",
              "      <th>Dividends</th>\n",
              "      <th>Stock Splits</th>\n",
              "    </tr>\n",
              "    <tr>\n",
              "      <th>Date</th>\n",
              "      <th></th>\n",
              "      <th></th>\n",
              "      <th></th>\n",
              "      <th></th>\n",
              "      <th></th>\n",
              "      <th></th>\n",
              "      <th></th>\n",
              "    </tr>\n",
              "  </thead>\n",
              "  <tbody>\n",
              "    <tr>\n",
              "      <th>2000-01-03 00:00:00+05:30</th>\n",
              "      <td>16.114733</td>\n",
              "      <td>16.114733</td>\n",
              "      <td>16.114733</td>\n",
              "      <td>16.114733</td>\n",
              "      <td>0</td>\n",
              "      <td>0.0</td>\n",
              "      <td>0.0</td>\n",
              "    </tr>\n",
              "    <tr>\n",
              "      <th>2000-01-04 00:00:00+05:30</th>\n",
              "      <td>16.114733</td>\n",
              "      <td>16.114733</td>\n",
              "      <td>16.114733</td>\n",
              "      <td>16.114733</td>\n",
              "      <td>0</td>\n",
              "      <td>0.0</td>\n",
              "      <td>0.0</td>\n",
              "    </tr>\n",
              "    <tr>\n",
              "      <th>2000-01-05 00:00:00+05:30</th>\n",
              "      <td>16.114733</td>\n",
              "      <td>16.114733</td>\n",
              "      <td>16.114733</td>\n",
              "      <td>16.114733</td>\n",
              "      <td>0</td>\n",
              "      <td>0.0</td>\n",
              "      <td>0.0</td>\n",
              "    </tr>\n",
              "    <tr>\n",
              "      <th>2000-01-06 00:00:00+05:30</th>\n",
              "      <td>16.114733</td>\n",
              "      <td>16.114733</td>\n",
              "      <td>16.114733</td>\n",
              "      <td>16.114733</td>\n",
              "      <td>0</td>\n",
              "      <td>0.0</td>\n",
              "      <td>0.0</td>\n",
              "    </tr>\n",
              "    <tr>\n",
              "      <th>2000-01-07 00:00:00+05:30</th>\n",
              "      <td>16.114733</td>\n",
              "      <td>16.114733</td>\n",
              "      <td>16.114733</td>\n",
              "      <td>16.114733</td>\n",
              "      <td>0</td>\n",
              "      <td>0.0</td>\n",
              "      <td>0.0</td>\n",
              "    </tr>\n",
              "    <tr>\n",
              "      <th>...</th>\n",
              "      <td>...</td>\n",
              "      <td>...</td>\n",
              "      <td>...</td>\n",
              "      <td>...</td>\n",
              "      <td>...</td>\n",
              "      <td>...</td>\n",
              "      <td>...</td>\n",
              "    </tr>\n",
              "    <tr>\n",
              "      <th>2023-10-11 00:00:00+05:30</th>\n",
              "      <td>632.250000</td>\n",
              "      <td>637.650024</td>\n",
              "      <td>632.250000</td>\n",
              "      <td>633.849976</td>\n",
              "      <td>553727</td>\n",
              "      <td>0.0</td>\n",
              "      <td>0.0</td>\n",
              "    </tr>\n",
              "    <tr>\n",
              "      <th>2023-10-12 00:00:00+05:30</th>\n",
              "      <td>636.900024</td>\n",
              "      <td>640.450012</td>\n",
              "      <td>635.099976</td>\n",
              "      <td>636.849976</td>\n",
              "      <td>196495</td>\n",
              "      <td>0.0</td>\n",
              "      <td>0.0</td>\n",
              "    </tr>\n",
              "    <tr>\n",
              "      <th>2023-10-13 00:00:00+05:30</th>\n",
              "      <td>634.950012</td>\n",
              "      <td>669.099976</td>\n",
              "      <td>633.049988</td>\n",
              "      <td>667.150024</td>\n",
              "      <td>970594</td>\n",
              "      <td>0.0</td>\n",
              "      <td>0.0</td>\n",
              "    </tr>\n",
              "    <tr>\n",
              "      <th>2023-10-16 00:00:00+05:30</th>\n",
              "      <td>668.799988</td>\n",
              "      <td>677.900024</td>\n",
              "      <td>661.099976</td>\n",
              "      <td>666.099976</td>\n",
              "      <td>1353054</td>\n",
              "      <td>0.0</td>\n",
              "      <td>0.0</td>\n",
              "    </tr>\n",
              "    <tr>\n",
              "      <th>2023-10-17 00:00:00+05:30</th>\n",
              "      <td>668.799988</td>\n",
              "      <td>670.950012</td>\n",
              "      <td>654.650024</td>\n",
              "      <td>655.750000</td>\n",
              "      <td>399267</td>\n",
              "      <td>0.0</td>\n",
              "      <td>0.0</td>\n",
              "    </tr>\n",
              "  </tbody>\n",
              "</table>\n",
              "<p>5916 rows × 7 columns</p>\n",
              "</div>\n",
              "    <div class=\"colab-df-buttons\">\n",
              "\n",
              "  <div class=\"colab-df-container\">\n",
              "    <button class=\"colab-df-convert\" onclick=\"convertToInteractive('df-2cdffae2-9ed4-456a-b3fd-b533db422b68')\"\n",
              "            title=\"Convert this dataframe to an interactive table.\"\n",
              "            style=\"display:none;\">\n",
              "\n",
              "  <svg xmlns=\"http://www.w3.org/2000/svg\" height=\"24px\" viewBox=\"0 -960 960 960\">\n",
              "    <path d=\"M120-120v-720h720v720H120Zm60-500h600v-160H180v160Zm220 220h160v-160H400v160Zm0 220h160v-160H400v160ZM180-400h160v-160H180v160Zm440 0h160v-160H620v160ZM180-180h160v-160H180v160Zm440 0h160v-160H620v160Z\"/>\n",
              "  </svg>\n",
              "    </button>\n",
              "\n",
              "  <style>\n",
              "    .colab-df-container {\n",
              "      display:flex;\n",
              "      gap: 12px;\n",
              "    }\n",
              "\n",
              "    .colab-df-convert {\n",
              "      background-color: #E8F0FE;\n",
              "      border: none;\n",
              "      border-radius: 50%;\n",
              "      cursor: pointer;\n",
              "      display: none;\n",
              "      fill: #1967D2;\n",
              "      height: 32px;\n",
              "      padding: 0 0 0 0;\n",
              "      width: 32px;\n",
              "    }\n",
              "\n",
              "    .colab-df-convert:hover {\n",
              "      background-color: #E2EBFA;\n",
              "      box-shadow: 0px 1px 2px rgba(60, 64, 67, 0.3), 0px 1px 3px 1px rgba(60, 64, 67, 0.15);\n",
              "      fill: #174EA6;\n",
              "    }\n",
              "\n",
              "    .colab-df-buttons div {\n",
              "      margin-bottom: 4px;\n",
              "    }\n",
              "\n",
              "    [theme=dark] .colab-df-convert {\n",
              "      background-color: #3B4455;\n",
              "      fill: #D2E3FC;\n",
              "    }\n",
              "\n",
              "    [theme=dark] .colab-df-convert:hover {\n",
              "      background-color: #434B5C;\n",
              "      box-shadow: 0px 1px 3px 1px rgba(0, 0, 0, 0.15);\n",
              "      filter: drop-shadow(0px 1px 2px rgba(0, 0, 0, 0.3));\n",
              "      fill: #FFFFFF;\n",
              "    }\n",
              "  </style>\n",
              "\n",
              "    <script>\n",
              "      const buttonEl =\n",
              "        document.querySelector('#df-2cdffae2-9ed4-456a-b3fd-b533db422b68 button.colab-df-convert');\n",
              "      buttonEl.style.display =\n",
              "        google.colab.kernel.accessAllowed ? 'block' : 'none';\n",
              "\n",
              "      async function convertToInteractive(key) {\n",
              "        const element = document.querySelector('#df-2cdffae2-9ed4-456a-b3fd-b533db422b68');\n",
              "        const dataTable =\n",
              "          await google.colab.kernel.invokeFunction('convertToInteractive',\n",
              "                                                    [key], {});\n",
              "        if (!dataTable) return;\n",
              "\n",
              "        const docLinkHtml = 'Like what you see? Visit the ' +\n",
              "          '<a target=\"_blank\" href=https://colab.research.google.com/notebooks/data_table.ipynb>data table notebook</a>'\n",
              "          + ' to learn more about interactive tables.';\n",
              "        element.innerHTML = '';\n",
              "        dataTable['output_type'] = 'display_data';\n",
              "        await google.colab.output.renderOutput(dataTable, element);\n",
              "        const docLink = document.createElement('div');\n",
              "        docLink.innerHTML = docLinkHtml;\n",
              "        element.appendChild(docLink);\n",
              "      }\n",
              "    </script>\n",
              "  </div>\n",
              "\n",
              "\n",
              "<div id=\"df-910d63f2-be05-4763-826e-547218fb56a6\">\n",
              "  <button class=\"colab-df-quickchart\" onclick=\"quickchart('df-910d63f2-be05-4763-826e-547218fb56a6')\"\n",
              "            title=\"Suggest charts.\"\n",
              "            style=\"display:none;\">\n",
              "\n",
              "<svg xmlns=\"http://www.w3.org/2000/svg\" height=\"24px\"viewBox=\"0 0 24 24\"\n",
              "     width=\"24px\">\n",
              "    <g>\n",
              "        <path d=\"M19 3H5c-1.1 0-2 .9-2 2v14c0 1.1.9 2 2 2h14c1.1 0 2-.9 2-2V5c0-1.1-.9-2-2-2zM9 17H7v-7h2v7zm4 0h-2V7h2v10zm4 0h-2v-4h2v4z\"/>\n",
              "    </g>\n",
              "</svg>\n",
              "  </button>\n",
              "\n",
              "<style>\n",
              "  .colab-df-quickchart {\n",
              "      --bg-color: #E8F0FE;\n",
              "      --fill-color: #1967D2;\n",
              "      --hover-bg-color: #E2EBFA;\n",
              "      --hover-fill-color: #174EA6;\n",
              "      --disabled-fill-color: #AAA;\n",
              "      --disabled-bg-color: #DDD;\n",
              "  }\n",
              "\n",
              "  [theme=dark] .colab-df-quickchart {\n",
              "      --bg-color: #3B4455;\n",
              "      --fill-color: #D2E3FC;\n",
              "      --hover-bg-color: #434B5C;\n",
              "      --hover-fill-color: #FFFFFF;\n",
              "      --disabled-bg-color: #3B4455;\n",
              "      --disabled-fill-color: #666;\n",
              "  }\n",
              "\n",
              "  .colab-df-quickchart {\n",
              "    background-color: var(--bg-color);\n",
              "    border: none;\n",
              "    border-radius: 50%;\n",
              "    cursor: pointer;\n",
              "    display: none;\n",
              "    fill: var(--fill-color);\n",
              "    height: 32px;\n",
              "    padding: 0;\n",
              "    width: 32px;\n",
              "  }\n",
              "\n",
              "  .colab-df-quickchart:hover {\n",
              "    background-color: var(--hover-bg-color);\n",
              "    box-shadow: 0 1px 2px rgba(60, 64, 67, 0.3), 0 1px 3px 1px rgba(60, 64, 67, 0.15);\n",
              "    fill: var(--button-hover-fill-color);\n",
              "  }\n",
              "\n",
              "  .colab-df-quickchart-complete:disabled,\n",
              "  .colab-df-quickchart-complete:disabled:hover {\n",
              "    background-color: var(--disabled-bg-color);\n",
              "    fill: var(--disabled-fill-color);\n",
              "    box-shadow: none;\n",
              "  }\n",
              "\n",
              "  .colab-df-spinner {\n",
              "    border: 2px solid var(--fill-color);\n",
              "    border-color: transparent;\n",
              "    border-bottom-color: var(--fill-color);\n",
              "    animation:\n",
              "      spin 1s steps(1) infinite;\n",
              "  }\n",
              "\n",
              "  @keyframes spin {\n",
              "    0% {\n",
              "      border-color: transparent;\n",
              "      border-bottom-color: var(--fill-color);\n",
              "      border-left-color: var(--fill-color);\n",
              "    }\n",
              "    20% {\n",
              "      border-color: transparent;\n",
              "      border-left-color: var(--fill-color);\n",
              "      border-top-color: var(--fill-color);\n",
              "    }\n",
              "    30% {\n",
              "      border-color: transparent;\n",
              "      border-left-color: var(--fill-color);\n",
              "      border-top-color: var(--fill-color);\n",
              "      border-right-color: var(--fill-color);\n",
              "    }\n",
              "    40% {\n",
              "      border-color: transparent;\n",
              "      border-right-color: var(--fill-color);\n",
              "      border-top-color: var(--fill-color);\n",
              "    }\n",
              "    60% {\n",
              "      border-color: transparent;\n",
              "      border-right-color: var(--fill-color);\n",
              "    }\n",
              "    80% {\n",
              "      border-color: transparent;\n",
              "      border-right-color: var(--fill-color);\n",
              "      border-bottom-color: var(--fill-color);\n",
              "    }\n",
              "    90% {\n",
              "      border-color: transparent;\n",
              "      border-bottom-color: var(--fill-color);\n",
              "    }\n",
              "  }\n",
              "</style>\n",
              "\n",
              "  <script>\n",
              "    async function quickchart(key) {\n",
              "      const quickchartButtonEl =\n",
              "        document.querySelector('#' + key + ' button');\n",
              "      quickchartButtonEl.disabled = true;  // To prevent multiple clicks.\n",
              "      quickchartButtonEl.classList.add('colab-df-spinner');\n",
              "      try {\n",
              "        const charts = await google.colab.kernel.invokeFunction(\n",
              "            'suggestCharts', [key], {});\n",
              "      } catch (error) {\n",
              "        console.error('Error during call to suggestCharts:', error);\n",
              "      }\n",
              "      quickchartButtonEl.classList.remove('colab-df-spinner');\n",
              "      quickchartButtonEl.classList.add('colab-df-quickchart-complete');\n",
              "    }\n",
              "    (() => {\n",
              "      let quickchartButtonEl =\n",
              "        document.querySelector('#df-910d63f2-be05-4763-826e-547218fb56a6 button');\n",
              "      quickchartButtonEl.style.display =\n",
              "        google.colab.kernel.accessAllowed ? 'block' : 'none';\n",
              "    })();\n",
              "  </script>\n",
              "</div>\n",
              "    </div>\n",
              "  </div>\n"
            ],
            "text/plain": [
              "                                 Open        High         Low       Close  \\\n",
              "Date                                                                        \n",
              "2000-01-03 00:00:00+05:30   16.114733   16.114733   16.114733   16.114733   \n",
              "2000-01-04 00:00:00+05:30   16.114733   16.114733   16.114733   16.114733   \n",
              "2000-01-05 00:00:00+05:30   16.114733   16.114733   16.114733   16.114733   \n",
              "2000-01-06 00:00:00+05:30   16.114733   16.114733   16.114733   16.114733   \n",
              "2000-01-07 00:00:00+05:30   16.114733   16.114733   16.114733   16.114733   \n",
              "...                               ...         ...         ...         ...   \n",
              "2023-10-11 00:00:00+05:30  632.250000  637.650024  632.250000  633.849976   \n",
              "2023-10-12 00:00:00+05:30  636.900024  640.450012  635.099976  636.849976   \n",
              "2023-10-13 00:00:00+05:30  634.950012  669.099976  633.049988  667.150024   \n",
              "2023-10-16 00:00:00+05:30  668.799988  677.900024  661.099976  666.099976   \n",
              "2023-10-17 00:00:00+05:30  668.799988  670.950012  654.650024  655.750000   \n",
              "\n",
              "                            Volume  Dividends  Stock Splits  \n",
              "Date                                                         \n",
              "2000-01-03 00:00:00+05:30        0        0.0           0.0  \n",
              "2000-01-04 00:00:00+05:30        0        0.0           0.0  \n",
              "2000-01-05 00:00:00+05:30        0        0.0           0.0  \n",
              "2000-01-06 00:00:00+05:30        0        0.0           0.0  \n",
              "2000-01-07 00:00:00+05:30        0        0.0           0.0  \n",
              "...                            ...        ...           ...  \n",
              "2023-10-11 00:00:00+05:30   553727        0.0           0.0  \n",
              "2023-10-12 00:00:00+05:30   196495        0.0           0.0  \n",
              "2023-10-13 00:00:00+05:30   970594        0.0           0.0  \n",
              "2023-10-16 00:00:00+05:30  1353054        0.0           0.0  \n",
              "2023-10-17 00:00:00+05:30   399267        0.0           0.0  \n",
              "\n",
              "[5916 rows x 7 columns]"
            ]
          },
          "execution_count": 5,
          "metadata": {},
          "output_type": "execute_result"
        }
      ],
      "source": [
        "df"
      ]
    },
    {
      "cell_type": "code",
      "execution_count": null,
      "metadata": {
        "id": "z-nPz9jtfk3a"
      },
      "outputs": [],
      "source": [
        "df1 = df.reset_index()['Close']"
      ]
    },
    {
      "cell_type": "code",
      "execution_count": null,
      "metadata": {
        "colab": {
          "base_uri": "https://localhost:8080/"
        },
        "id": "EBvtqtTNfk6F",
        "outputId": "4a01d781-216b-41ca-fd47-b582c68bbbb7"
      },
      "outputs": [
        {
          "data": {
            "text/plain": [
              "(5916,)"
            ]
          },
          "execution_count": 7,
          "metadata": {},
          "output_type": "execute_result"
        }
      ],
      "source": [
        "df1.shape"
      ]
    },
    {
      "cell_type": "code",
      "execution_count": null,
      "metadata": {
        "colab": {
          "base_uri": "https://localhost:8080/"
        },
        "id": "s3IzCQu6fk87",
        "outputId": "f2151fd4-348e-4381-8046-43bb06e7e22f"
      },
      "outputs": [
        {
          "data": {
            "text/plain": [
              "0        16.114733\n",
              "1        16.114733\n",
              "2        16.114733\n",
              "3        16.114733\n",
              "4        16.114733\n",
              "           ...    \n",
              "5911    633.849976\n",
              "5912    636.849976\n",
              "5913    667.150024\n",
              "5914    666.099976\n",
              "5915    655.750000\n",
              "Name: Close, Length: 5916, dtype: float64"
            ]
          },
          "execution_count": 8,
          "metadata": {},
          "output_type": "execute_result"
        }
      ],
      "source": [
        "df1"
      ]
    },
    {
      "cell_type": "code",
      "execution_count": null,
      "metadata": {
        "colab": {
          "base_uri": "https://localhost:8080/",
          "height": 452
        },
        "id": "mNdRda4Gfk_t",
        "outputId": "4cb63af7-ab19-41d1-c74c-99347bb4c19c"
      },
      "outputs": [
        {
          "data": {
            "text/plain": [
              "[<matplotlib.lines.Line2D at 0x78e45290d750>]"
            ]
          },
          "execution_count": 10,
          "metadata": {},
          "output_type": "execute_result"
        },
        {
          "data": {
            "image/png": "[encoded data removed]",
            "text/plain": [
              "<Figure size 640x480 with 1 Axes>"
            ]
          },
          "metadata": {},
          "output_type": "display_data"
        }
      ],
      "source": [
        "import matplotlib.pyplot as plt\n",
        "plt.plot(df1)"
      ]
    },
    {
      "cell_type": "code",
      "execution_count": null,
      "metadata": {
        "id": "y-82VQw8flCK"
      },
      "outputs": [],
      "source": [
        "### LSTM are sensitive to the scale of the data. so we apply MinMax scaler\n",
        "import numpy as np"
      ]
    },
    {
      "cell_type": "code",
      "execution_count": null,
      "metadata": {
        "id": "lcn9bJ1npWkd"
      },
      "outputs": [],
      "source": [
        "from sklearn.preprocessing import MinMaxScaler\n",
        "scaler=MinMaxScaler(feature_range=(0,1))\n",
        "df1=scaler.fit_transform(np.array(df1).reshape(-1,1))"
      ]
    },
    {
      "cell_type": "code",
      "execution_count": null,
      "metadata": {
        "colab": {
          "base_uri": "https://localhost:8080/"
        },
        "id": "Oa9FLKMXpWnD",
        "outputId": "66037f62-19d5-471e-af19-b642e451979d"
      },
      "outputs": [
        {
          "data": {
            "text/plain": [
              "array([[0.01758112],\n",
              "       [0.01758112],\n",
              "       [0.01758112],\n",
              "       ...,\n",
              "       [1.        ],\n",
              "       [0.99841547],\n",
              "       [0.98279725]])"
            ]
          },
          "execution_count": 13,
          "metadata": {},
          "output_type": "execute_result"
        }
      ],
      "source": [
        "df1"
      ]
    },
    {
      "cell_type": "code",
      "execution_count": null,
      "metadata": {
        "id": "zAeIkNa3pWpx"
      },
      "outputs": [],
      "source": [
        "##splitting dataset into train and test split\n",
        "training_size=int(len(df1)*0.65)\n",
        "test_size=len(df1)-training_size\n",
        "train_data,test_data=df1[0:training_size,:],df1[training_size:len(df1),:1]"
      ]
    },
    {
      "cell_type": "code",
      "execution_count": null,
      "metadata": {
        "colab": {
          "base_uri": "https://localhost:8080/"
        },
        "id": "COr7Z7S9pWsm",
        "outputId": "6396d0a7-8e04-4f27-f9aa-434265b5d3e1"
      },
      "outputs": [
        {
          "data": {
            "text/plain": [
              "(3845, 2071)"
            ]
          },
          "execution_count": 15,
          "metadata": {},
          "output_type": "execute_result"
        }
      ],
      "source": [
        "training_size,test_size"
      ]
    },
    {
      "cell_type": "code",
      "execution_count": null,
      "metadata": {
        "id": "uxo4n6DcpWve"
      },
      "outputs": [],
      "source": [
        "import numpy\n",
        "# convert an array of values into a dataset matrix\n",
        "def create_dataset(dataset, time_step=1):\n",
        "\tdataX, dataY = [], []\n",
        "\tfor i in range(len(dataset)-time_step-1):\n",
        "\t\ta = dataset[i:(i+time_step), 0]\n",
        "\t\tdataX.append(a)\n",
        "\t\tdataY.append(dataset[i + time_step, 0])\n",
        "\treturn numpy.array(dataX), numpy.array(dataY)"
      ]
    },
    {
      "cell_type": "code",
      "execution_count": null,
      "metadata": {
        "id": "B5pZWzM8pWyT"
      },
      "outputs": [],
      "source": [
        "# reshape into X=t,t+1,t+2,t+3 and Y=t+4\n",
        "time_step = 100\n",
        "X_train, y_train = create_dataset(train_data, time_step)\n",
        "X_test, ytest = create_dataset(test_data, time_step)"
      ]
    },
    {
      "cell_type": "code",
      "execution_count": null,
      "metadata": {
        "colab": {
          "base_uri": "https://localhost:8080/"
        },
        "id": "4pLiWcxMpW0t",
        "outputId": "701144b4-f490-4781-bd27-64c0561d3980"
      },
      "outputs": [
        {
          "name": "stdout",
          "output_type": "stream",
          "text": [
            "[[0.01758112 0.01758112 0.01758112 ... 0.00779831 0.00779831 0.00779831]\n",
            " [0.01758112 0.01758112 0.01758112 ... 0.00779831 0.00779831 0.00779831]\n",
            " [0.01758112 0.01758112 0.01758112 ... 0.00779831 0.00779831 0.00779831]\n",
            " ...\n",
            " [0.77544346 0.7971645  0.80199132 ... 0.78260841 0.76496015 0.77054121]\n",
            " [0.7971645  0.80199132 0.79120628 ... 0.76496015 0.77054121 0.77355803]\n",
            " [0.80199132 0.79120628 0.79045205 ... 0.77054121 0.77355803 0.79248835]]\n"
          ]
        }
      ],
      "source": [
        "print(X_train)"
      ]
    },
    {
      "cell_type": "code",
      "execution_count": null,
      "metadata": {
        "colab": {
          "base_uri": "https://localhost:8080/"
        },
        "id": "2Ml1EboppW3o",
        "outputId": "56773eb7-0cec-4834-e131-e198396de213"
      },
      "outputs": [
        {
          "name": "stdout",
          "output_type": "stream",
          "text": [
            "(3744, 100)\n",
            "(3744,)\n"
          ]
        },
        {
          "data": {
            "text/plain": [
              "(None, None)"
            ]
          },
          "execution_count": 20,
          "metadata": {},
          "output_type": "execute_result"
        }
      ],
      "source": [
        "print(X_train.shape), print(y_train.shape)"
      ]
    },
    {
      "cell_type": "code",
      "execution_count": null,
      "metadata": {
        "colab": {
          "base_uri": "https://localhost:8080/"
        },
        "id": "9txAolvDzrNd",
        "outputId": "f6cf31ff-3e06-460f-c9dc-9c84cff7d4b3"
      },
      "outputs": [
        {
          "name": "stdout",
          "output_type": "stream",
          "text": [
            "(1970, 100)\n",
            "(1970,)\n"
          ]
        },
        {
          "data": {
            "text/plain": [
              "(None, None)"
            ]
          },
          "execution_count": 21,
          "metadata": {},
          "output_type": "execute_result"
        }
      ],
      "source": [
        "print(X_test.shape), print(ytest.shape)"
      ]
    },
    {
      "cell_type": "code",
      "execution_count": null,
      "metadata": {
        "id": "_fLx99ZozrQM"
      },
      "outputs": [],
      "source": [
        "# reshape input to be [samples, time steps, features] which is required for LSTM\n",
        "X_train =X_train.reshape(X_train.shape[0],X_train.shape[1] , 1)\n",
        "X_test = X_test.reshape(X_test.shape[0],X_test.shape[1] , 1)"
      ]
    },
    {
      "cell_type": "code",
      "execution_count": null,
      "metadata": {
        "colab": {
          "base_uri": "https://localhost:8080/"
        },
        "id": "HxvYjG1w2Miy",
        "outputId": "dbc85a22-32b3-4139-88f8-79f35f55efb1"
      },
      "outputs": [
        {
          "name": "stdout",
          "output_type": "stream",
          "text": [
            "(3744, 100, 1)\n",
            "(3744,)\n"
          ]
        },
        {
          "data": {
            "text/plain": [
              "(None, None)"
            ]
          },
          "execution_count": 23,
          "metadata": {},
          "output_type": "execute_result"
        }
      ],
      "source": [
        "print(X_train.shape), print(y_train.shape)"
      ]
    },
    {
      "cell_type": "code",
      "execution_count": null,
      "metadata": {
        "id": "Ookys1ZxzrS1"
      },
      "outputs": [],
      "source": [
        "### Create the Stacked LSTM model\n",
        "from tensorflow.keras.models import Sequential\n",
        "from tensorflow.keras.layers import Dense\n",
        "from tensorflow.keras.layers import LSTM"
      ]
    },
    {
      "cell_type": "code",
      "execution_count": null,
      "metadata": {
        "id": "1rUxUR2Gzrc8"
      },
      "outputs": [],
      "source": [
        "model=Sequential()\n",
        "model.add(LSTM(50,return_sequences=True,input_shape=(100,1)))\n",
        "model.add(LSTM(50,return_sequences=True))\n",
        "model.add(LSTM(50))\n",
        "model.add(Dense(1))\n",
        "model.compile(loss='mean_squared_error',optimizer='adam')"
      ]
    },
    {
      "cell_type": "code",
      "execution_count": null,
      "metadata": {
        "colab": {
          "base_uri": "https://localhost:8080/"
        },
        "id": "30QRKLZ31plL",
        "outputId": "96dc7d80-ad35-4128-f03c-d0abd546fc91"
      },
      "outputs": [
        {
          "name": "stdout",
          "output_type": "stream",
          "text": [
            "Model: \"sequential\"\n",
            "_________________________________________________________________\n",
            " Layer (type)                Output Shape              Param #   \n",
            "=================================================================\n",
            " lstm (LSTM)                 (None, 100, 50)           10400     \n",
            "                                                                 \n",
            " lstm_1 (LSTM)               (None, 100, 50)           20200     \n",
            "                                                                 \n",
            " lstm_2 (LSTM)               (None, 50)                20200     \n",
            "                                                                 \n",
            " dense (Dense)               (None, 1)                 51        \n",
            "                                                                 \n",
            "=================================================================\n",
            "Total params: 50851 (198.64 KB)\n",
            "Trainable params: 50851 (198.64 KB)\n",
            "Non-trainable params: 0 (0.00 Byte)\n",
            "_________________________________________________________________\n"
          ]
        }
      ],
      "source": [
        "model.summary()"
      ]
    },
    {
      "cell_type": "code",
      "execution_count": null,
      "metadata": {
        "colab": {
          "background_save": true,
          "base_uri": "https://localhost:8080/"
        },
        "id": "NrXLfvw21pqn",
        "outputId": "96b4e3b0-f04c-4aa9-b8a0-ca322d10a35b"
      },
      "outputs": [
        {
          "name": "stdout",
          "output_type": "stream",
          "text": [
            "Epoch 1/100\n",
            "59/59 [==============================] - 20s 230ms/step - loss: 0.0078 - val_loss: 0.0019\n",
            "Epoch 2/100\n",
            "59/59 [==============================] - 15s 255ms/step - loss: 3.3632e-04 - val_loss: 0.0016\n",
            "Epoch 3/100\n",
            "59/59 [==============================] - 14s 231ms/step - loss: 2.7898e-04 - val_loss: 0.0015\n",
            "Epoch 4/100\n",
            "59/59 [==============================] - 17s 282ms/step - loss: 3.3624e-04 - val_loss: 0.0014\n",
            "Epoch 5/100\n",
            "59/59 [==============================] - 14s 241ms/step - loss: 2.5647e-04 - val_loss: 0.0013\n",
            "Epoch 6/100\n",
            "59/59 [==============================] - 15s 252ms/step - loss: 2.6747e-04 - val_loss: 0.0015\n",
            "Epoch 7/100\n",
            "59/59 [==============================] - 15s 258ms/step - loss: 2.6407e-04 - val_loss: 0.0013\n",
            "Epoch 8/100\n",
            "59/59 [==============================] - 13s 209ms/step - loss: 2.4257e-04 - val_loss: 0.0012\n",
            "Epoch 9/100\n",
            "59/59 [==============================] - 19s 325ms/step - loss: 2.2864e-04 - val_loss: 0.0010\n",
            "Epoch 10/100\n",
            "59/59 [==============================] - 17s 283ms/step - loss: 2.2506e-04 - val_loss: 0.0010\n",
            "Epoch 11/100\n",
            "59/59 [==============================] - 14s 234ms/step - loss: 2.1246e-04 - val_loss: 9.6160e-04\n",
            "Epoch 12/100\n",
            "59/59 [==============================] - 14s 245ms/step - loss: 2.3581e-04 - val_loss: 9.3117e-04\n",
            "Epoch 13/100\n",
            "59/59 [==============================] - 13s 221ms/step - loss: 2.3104e-04 - val_loss: 8.5479e-04\n",
            "Epoch 14/100\n",
            "59/59 [==============================] - 13s 218ms/step - loss: 1.9927e-04 - val_loss: 9.7368e-04\n",
            "Epoch 15/100\n",
            "59/59 [==============================] - 13s 220ms/step - loss: 1.6851e-04 - val_loss: 7.7158e-04\n",
            "Epoch 16/100\n",
            "59/59 [==============================] - 13s 228ms/step - loss: 1.6445e-04 - val_loss: 6.8416e-04\n",
            "Epoch 17/100\n",
            "59/59 [==============================] - 13s 227ms/step - loss: 1.5546e-04 - val_loss: 7.8188e-04\n",
            "Epoch 18/100\n",
            "59/59 [==============================] - 13s 218ms/step - loss: 1.5432e-04 - val_loss: 7.6009e-04\n",
            "Epoch 19/100\n",
            "59/59 [==============================] - 13s 229ms/step - loss: 1.4362e-04 - val_loss: 6.0278e-04\n",
            "Epoch 20/100\n",
            "59/59 [==============================] - 12s 212ms/step - loss: 1.5123e-04 - val_loss: 5.4200e-04\n",
            "Epoch 21/100\n",
            "59/59 [==============================] - 12s 208ms/step - loss: 1.5071e-04 - val_loss: 5.1979e-04\n",
            "Epoch 22/100\n",
            "59/59 [==============================] - 12s 207ms/step - loss: 1.2693e-04 - val_loss: 5.0330e-04\n",
            "Epoch 23/100\n",
            "59/59 [==============================] - 13s 218ms/step - loss: 1.2949e-04 - val_loss: 4.4742e-04\n",
            "Epoch 24/100\n",
            "59/59 [==============================] - 12s 207ms/step - loss: 1.1668e-04 - val_loss: 4.3981e-04\n",
            "Epoch 25/100\n",
            "59/59 [==============================] - 12s 204ms/step - loss: 1.0424e-04 - val_loss: 4.9027e-04\n",
            "Epoch 26/100\n",
            "59/59 [==============================] - 12s 202ms/step - loss: 1.0798e-04 - val_loss: 4.0164e-04\n",
            "Epoch 27/100\n",
            "59/59 [==============================] - 12s 203ms/step - loss: 1.0653e-04 - val_loss: 3.7061e-04\n",
            "Epoch 28/100\n",
            "59/59 [==============================] - 12s 202ms/step - loss: 1.3140e-04 - val_loss: 3.7805e-04\n",
            "Epoch 29/100\n",
            "59/59 [==============================] - 12s 204ms/step - loss: 9.8775e-05 - val_loss: 6.2894e-04\n",
            "Epoch 30/100\n",
            "59/59 [==============================] - 12s 207ms/step - loss: 1.0188e-04 - val_loss: 4.6284e-04\n",
            "Epoch 31/100\n",
            "59/59 [==============================] - 12s 202ms/step - loss: 1.0450e-04 - val_loss: 3.4265e-04\n",
            "Epoch 32/100\n",
            "59/59 [==============================] - 12s 202ms/step - loss: 8.8825e-05 - val_loss: 3.2347e-04\n",
            "Epoch 33/100\n",
            "59/59 [==============================] - 12s 204ms/step - loss: 8.5724e-05 - val_loss: 3.0924e-04\n",
            "Epoch 34/100\n",
            "59/59 [==============================] - 12s 205ms/step - loss: 9.5088e-05 - val_loss: 3.2207e-04\n",
            "Epoch 35/100\n",
            "59/59 [==============================] - 11s 190ms/step - loss: 8.9498e-05 - val_loss: 3.1537e-04\n",
            "Epoch 36/100\n",
            "59/59 [==============================] - 12s 198ms/step - loss: 1.1148e-04 - val_loss: 3.5682e-04\n",
            "Epoch 37/100\n",
            "59/59 [==============================] - 12s 207ms/step - loss: 7.5730e-05 - val_loss: 2.8780e-04\n",
            "Epoch 38/100\n",
            "59/59 [==============================] - 12s 205ms/step - loss: 7.5766e-05 - val_loss: 3.1955e-04\n",
            "Epoch 39/100\n",
            "59/59 [==============================] - 12s 205ms/step - loss: 6.8454e-05 - val_loss: 2.8890e-04\n",
            "Epoch 40/100\n",
            "59/59 [==============================] - 12s 205ms/step - loss: 7.1055e-05 - val_loss: 3.9084e-04\n",
            "Epoch 41/100\n",
            "59/59 [==============================] - 12s 205ms/step - loss: 7.5390e-05 - val_loss: 2.5346e-04\n",
            "Epoch 42/100\n",
            "59/59 [==============================] - 12s 207ms/step - loss: 6.9770e-05 - val_loss: 2.4902e-04\n",
            "Epoch 43/100\n",
            "59/59 [==============================] - 12s 207ms/step - loss: 6.2844e-05 - val_loss: 2.3968e-04\n",
            "Epoch 44/100\n",
            "59/59 [==============================] - 13s 224ms/step - loss: 8.1451e-05 - val_loss: 2.5706e-04\n",
            "Epoch 45/100\n",
            "59/59 [==============================] - 12s 206ms/step - loss: 7.6740e-05 - val_loss: 2.3101e-04\n",
            "Epoch 46/100\n",
            "59/59 [==============================] - 12s 205ms/step - loss: 6.5229e-05 - val_loss: 3.7514e-04\n",
            "Epoch 47/100\n",
            "59/59 [==============================] - 12s 205ms/step - loss: 1.1541e-04 - val_loss: 2.5586e-04\n",
            "Epoch 48/100\n",
            "59/59 [==============================] - 12s 202ms/step - loss: 6.3146e-05 - val_loss: 2.1871e-04\n",
            "Epoch 49/100\n",
            "59/59 [==============================] - 12s 200ms/step - loss: 5.7707e-05 - val_loss: 2.8627e-04\n",
            "Epoch 50/100\n",
            "59/59 [==============================] - 12s 201ms/step - loss: 6.6696e-05 - val_loss: 2.1232e-04\n",
            "Epoch 51/100\n",
            "59/59 [==============================] - 11s 192ms/step - loss: 6.4570e-05 - val_loss: 3.5515e-04\n",
            "Epoch 52/100\n",
            "59/59 [==============================] - 12s 198ms/step - loss: 6.3272e-05 - val_loss: 2.3404e-04\n",
            "Epoch 53/100\n",
            "59/59 [==============================] - 12s 203ms/step - loss: 5.9444e-05 - val_loss: 2.0940e-04\n",
            "Epoch 54/100\n",
            "59/59 [==============================] - 12s 204ms/step - loss: 6.0703e-05 - val_loss: 2.0158e-04\n",
            "Epoch 55/100\n",
            "59/59 [==============================] - 12s 204ms/step - loss: 8.9896e-05 - val_loss: 5.7582e-04\n",
            "Epoch 56/100\n",
            "59/59 [==============================] - 12s 205ms/step - loss: 7.0579e-05 - val_loss: 1.9199e-04\n",
            "Epoch 57/100\n",
            "59/59 [==============================] - 12s 204ms/step - loss: 5.5189e-05 - val_loss: 2.3117e-04\n",
            "Epoch 58/100\n",
            "59/59 [==============================] - 12s 204ms/step - loss: 6.4625e-05 - val_loss: 1.8690e-04\n",
            "Epoch 59/100\n",
            "59/59 [==============================] - 12s 203ms/step - loss: 5.9602e-05 - val_loss: 3.1692e-04\n",
            "Epoch 60/100\n",
            "59/59 [==============================] - 12s 201ms/step - loss: 5.7796e-05 - val_loss: 1.8533e-04\n",
            "Epoch 61/100\n",
            "59/59 [==============================] - 12s 202ms/step - loss: 5.6364e-05 - val_loss: 1.9932e-04\n",
            "Epoch 62/100\n",
            "59/59 [==============================] - 12s 203ms/step - loss: 6.1486e-05 - val_loss: 3.0908e-04\n",
            "Epoch 63/100\n",
            "59/59 [==============================] - 11s 195ms/step - loss: 5.6236e-05 - val_loss: 2.0713e-04\n",
            "Epoch 64/100\n",
            "59/59 [==============================] - 11s 186ms/step - loss: 5.0430e-05 - val_loss: 2.4119e-04\n",
            "Epoch 65/100\n",
            "59/59 [==============================] - 12s 196ms/step - loss: 5.8692e-05 - val_loss: 3.1945e-04\n",
            "Epoch 66/100\n",
            "59/59 [==============================] - 12s 202ms/step - loss: 8.1292e-05 - val_loss: 2.1528e-04\n",
            "Epoch 67/100\n",
            "59/59 [==============================] - 12s 202ms/step - loss: 6.0742e-05 - val_loss: 1.7766e-04\n",
            "Epoch 68/100\n",
            "59/59 [==============================] - 12s 202ms/step - loss: 5.1888e-05 - val_loss: 3.2248e-04\n",
            "Epoch 69/100\n",
            "59/59 [==============================] - 12s 200ms/step - loss: 5.4741e-05 - val_loss: 1.7966e-04\n",
            "Epoch 70/100\n",
            "59/59 [==============================] - 12s 201ms/step - loss: 5.2119e-05 - val_loss: 3.7576e-04\n",
            "Epoch 71/100\n",
            "59/59 [==============================] - 12s 204ms/step - loss: 7.0191e-05 - val_loss: 2.2728e-04\n",
            "Epoch 72/100\n",
            "59/59 [==============================] - 12s 203ms/step - loss: 5.4846e-05 - val_loss: 2.2461e-04\n",
            "Epoch 73/100\n",
            "59/59 [==============================] - 12s 199ms/step - loss: 5.7421e-05 - val_loss: 1.8201e-04\n",
            "Epoch 74/100\n",
            "59/59 [==============================] - 12s 199ms/step - loss: 6.0115e-05 - val_loss: 3.3397e-04\n",
            "Epoch 75/100\n",
            "59/59 [==============================] - 12s 199ms/step - loss: 5.3606e-05 - val_loss: 1.7968e-04\n",
            "Epoch 76/100\n",
            "59/59 [==============================] - 11s 192ms/step - loss: 5.1565e-05 - val_loss: 1.7545e-04\n",
            "Epoch 77/100\n",
            "59/59 [==============================] - 11s 193ms/step - loss: 5.2266e-05 - val_loss: 3.1899e-04\n",
            "Epoch 78/100\n",
            "59/59 [==============================] - 12s 205ms/step - loss: 5.4320e-05 - val_loss: 1.7409e-04\n",
            "Epoch 79/100\n",
            "59/59 [==============================] - 12s 203ms/step - loss: 5.1207e-05 - val_loss: 1.9057e-04\n",
            "Epoch 80/100\n",
            "59/59 [==============================] - 12s 200ms/step - loss: 5.2877e-05 - val_loss: 1.7102e-04\n",
            "Epoch 81/100\n",
            "59/59 [==============================] - 12s 203ms/step - loss: 4.9275e-05 - val_loss: 1.8329e-04\n",
            "Epoch 82/100\n",
            "59/59 [==============================] - 12s 203ms/step - loss: 4.7076e-05 - val_loss: 2.2680e-04\n",
            "Epoch 83/100\n",
            "59/59 [==============================] - 12s 202ms/step - loss: 5.0375e-05 - val_loss: 2.0498e-04\n",
            "Epoch 84/100\n",
            "59/59 [==============================] - 12s 199ms/step - loss: 6.6176e-05 - val_loss: 1.7197e-04\n",
            "Epoch 85/100\n",
            "59/59 [==============================] - 12s 201ms/step - loss: 5.2615e-05 - val_loss: 2.3905e-04\n",
            "Epoch 86/100\n",
            "59/59 [==============================] - 12s 199ms/step - loss: 6.6188e-05 - val_loss: 2.0295e-04\n",
            "Epoch 87/100\n",
            "59/59 [==============================] - 12s 202ms/step - loss: 4.7461e-05 - val_loss: 2.0894e-04\n",
            "Epoch 88/100\n",
            "59/59 [==============================] - 12s 201ms/step - loss: 4.8129e-05 - val_loss: 1.6663e-04\n",
            "Epoch 89/100\n",
            "59/59 [==============================] - 11s 189ms/step - loss: 5.0161e-05 - val_loss: 1.8238e-04\n",
            "Epoch 90/100\n",
            "59/59 [==============================] - 11s 192ms/step - loss: 4.8443e-05 - val_loss: 1.7176e-04\n",
            "Epoch 91/100\n",
            "59/59 [==============================] - 12s 198ms/step - loss: 5.1976e-05 - val_loss: 1.8255e-04\n",
            "Epoch 92/100\n",
            "59/59 [==============================] - 12s 201ms/step - loss: 5.4300e-05 - val_loss: 2.1901e-04\n",
            "Epoch 93/100\n",
            "59/59 [==============================] - 12s 201ms/step - loss: 5.6066e-05 - val_loss: 1.7236e-04\n",
            "Epoch 94/100\n",
            "59/59 [==============================] - 12s 202ms/step - loss: 5.1824e-05 - val_loss: 1.9362e-04\n",
            "Epoch 95/100\n",
            "59/59 [==============================] - 12s 203ms/step - loss: 4.8230e-05 - val_loss: 1.8244e-04\n",
            "Epoch 96/100\n",
            "59/59 [==============================] - 12s 200ms/step - loss: 4.4880e-05 - val_loss: 1.6802e-04\n",
            "Epoch 97/100\n",
            "59/59 [==============================] - 12s 200ms/step - loss: 4.6488e-05 - val_loss: 1.7354e-04\n",
            "Epoch 98/100\n",
            "59/59 [==============================] - 12s 201ms/step - loss: 5.2734e-05 - val_loss: 1.6840e-04\n",
            "Epoch 99/100\n",
            "59/59 [==============================] - 11s 193ms/step - loss: 5.8006e-05 - val_loss: 1.9231e-04\n",
            "Epoch 100/100\n",
            "59/59 [==============================] - 11s 182ms/step - loss: 4.5867e-05 - val_loss: 1.6773e-04\n"
          ]
        },
        {
          "data": {
            "text/plain": [
              "<keras.src.callbacks.History at 0x78e3f750e740>"
            ]
          },
          "execution_count": 28,
          "metadata": {},
          "output_type": "execute_result"
        }
      ],
      "source": [
        "model.fit(X_train,y_train,validation_data=(X_test,ytest),epochs=100,batch_size=64,verbose=1)\n"
      ]
    },
    {
      "cell_type": "code",
      "execution_count": null,
      "metadata": {
        "id": "4hO7cdBw1pto"
      },
      "outputs": [],
      "source": [
        "import tensorflow as tf\n"
      ]
    },
    {
      "cell_type": "code",
      "execution_count": null,
      "metadata": {
        "id": "Oua-tGor1pwV",
        "colab": {
          "base_uri": "https://localhost:8080/",
          "height": 35
        },
        "outputId": "d7cab20e-84bf-4c6d-a445-85796839d28c"
      },
      "outputs": [
        {
          "output_type": "execute_result",
          "data": {
            "text/plain": [
              "'2.13.0'"
            ],
            "application/vnd.google.colaboratory.intrinsic+json": {
              "type": "string"
            }
          },
          "metadata": {},
          "execution_count": 30
        }
      ],
      "source": [
        "tf.__version__"
      ]
    },
    {
      "cell_type": "code",
      "execution_count": null,
      "metadata": {
        "id": "lwsJanbC3ErO",
        "colab": {
          "base_uri": "https://localhost:8080/"
        },
        "outputId": "fa2c1b6d-99d9-45d5-e7ba-25565433d563"
      },
      "outputs": [
        {
          "output_type": "stream",
          "name": "stdout",
          "text": [
            "117/117 [==============================] - 6s 36ms/step\n",
            "62/62 [==============================] - 3s 34ms/step\n"
          ]
        }
      ],
      "source": [
        "# prediction and check performance metrics\n",
        "train_predict = model.predict(X_train)\n",
        "test_predict = model.predict(X_test)"
      ]
    },
    {
      "cell_type": "code",
      "execution_count": null,
      "metadata": {
        "id": "EKLOF5XW3Eti"
      },
      "outputs": [],
      "source": [
        "#Transformback to original form\n",
        "train_predict = scaler.inverse_transform(train_predict)\n",
        "test_predict = scaler.inverse_transform(test_predict)"
      ]
    },
    {
      "cell_type": "code",
      "execution_count": null,
      "metadata": {
        "id": "teXpNSiw3EwK",
        "colab": {
          "base_uri": "https://localhost:8080/"
        },
        "outputId": "682feaf1-52eb-4165-bce3-65a9d720887c"
      },
      "outputs": [
        {
          "output_type": "execute_result",
          "data": {
            "text/plain": [
              "191.23968456804704"
            ]
          },
          "metadata": {},
          "execution_count": 33
        }
      ],
      "source": [
        "# Calculate RMSE performance metrics\n",
        "import math\n",
        "from sklearn.metrics import mean_squared_error\n",
        "math.sqrt(mean_squared_error(y_train,train_predict))"
      ]
    },
    {
      "cell_type": "code",
      "execution_count": null,
      "metadata": {
        "id": "8ONA-_IL3Ey5",
        "colab": {
          "base_uri": "https://localhost:8080/"
        },
        "outputId": "b5ca7a7a-9c28-4b63-d4cf-1248daae6661"
      },
      "outputs": [
        {
          "output_type": "execute_result",
          "data": {
            "text/plain": [
              "369.27390618462255"
            ]
          },
          "metadata": {},
          "execution_count": 34
        }
      ],
      "source": [
        "# Test Data RMSE\n",
        "math.sqrt(mean_squared_error(ytest,test_predict))"
      ]
    },
    {
      "cell_type": "code",
      "execution_count": null,
      "metadata": {
        "id": "lPSe7xzf3E1h",
        "colab": {
          "base_uri": "https://localhost:8080/",
          "height": 435
        },
        "outputId": "3559bfe4-f86d-4344-ea32-9a0ae505fb0b"
      },
      "outputs": [
        {
          "output_type": "display_data",
          "data": {
            "text/plain": [
              "<Figure size 640x480 with 1 Axes>"
            ],
            "image/png": "[encoded data removed]"
          },
          "metadata": {}
        }
      ],
      "source": [
        "### Plotting\n",
        "# shift train predictions for plotting\n",
        "look_back=100\n",
        "trainPredictPlot = numpy.empty_like(df1)\n",
        "trainPredictPlot[:, :] = np.nan\n",
        "trainPredictPlot[look_back:len(train_predict)+look_back, :] = train_predict\n",
        "# shift test predictions for plotting\n",
        "testPredictPlot = numpy.empty_like(df1)\n",
        "testPredictPlot[:, :] = numpy.nan\n",
        "testPredictPlot[len(train_predict)+(look_back*2)+1:len(df1)-1, :] = test_predict\n",
        "# plot baseline and predictions\n",
        "plt.plot(scaler.inverse_transform(df1))\n",
        "plt.plot(trainPredictPlot)\n",
        "plt.plot(testPredictPlot)\n",
        "plt.show()"
      ]
    },
    {
      "cell_type": "code",
      "execution_count": null,
      "metadata": {
        "id": "jL4Ho9wE3E4P",
        "colab": {
          "base_uri": "https://localhost:8080/"
        },
        "outputId": "c504bb6c-8666-488c-a22d-f671892990e1"
      },
      "outputs": [
        {
          "output_type": "execute_result",
          "data": {
            "text/plain": [
              "2071"
            ]
          },
          "metadata": {},
          "execution_count": 36
        }
      ],
      "source": [
        "len(test_data)"
      ]
    },
    {
      "cell_type": "code",
      "execution_count": null,
      "metadata": {
        "id": "NwNz-YNg3E64",
        "colab": {
          "base_uri": "https://localhost:8080/"
        },
        "outputId": "5db52e35-3ead-49dc-9b53-f5e6a21a44a4"
      },
      "outputs": [
        {
          "output_type": "execute_result",
          "data": {
            "text/plain": [
              "(1, 100)"
            ]
          },
          "metadata": {},
          "execution_count": 41
        }
      ],
      "source": [
        "x_input=test_data[1971:].reshape(1,-1)\n",
        "x_input.shape"
      ]
    },
    {
      "cell_type": "code",
      "execution_count": null,
      "metadata": {
        "id": "TZwf9R943E9W"
      },
      "outputs": [],
      "source": [
        "temp_input=list(x_input)\n",
        "temp_input=temp_input[0].tolist()"
      ]
    },
    {
      "cell_type": "code",
      "execution_count": null,
      "metadata": {
        "id": "dXnkcKeb3QvX",
        "colab": {
          "base_uri": "https://localhost:8080/"
        },
        "outputId": "5ea482fb-2b7f-497d-f55d-d1e8a6ebc1e1"
      },
      "outputs": [
        {
          "output_type": "execute_result",
          "data": {
            "text/plain": [
              "[0.7187204677820999,\n",
              " 0.7133635001050603,\n",
              " 0.7480707339766651,\n",
              " 0.7531258811995042,\n",
              " 0.7620290780337236,\n",
              " 0.7653488727732495,\n",
              " 0.7713849594979078,\n",
              " 0.7942464082865142,\n",
              " 0.7795335591452904,\n",
              " 0.7712340032194719,\n",
              " 0.785116915188648,\n",
              " 0.781495253943586,\n",
              " 0.7907757033198879,\n",
              " 0.7782509373432779,\n",
              " 0.7699513814174593,\n",
              " 0.7757610337244638,\n",
              " 0.7761382862665465,\n",
              " 0.7876822508953444,\n",
              " 0.8009615219561198,\n",
              " 0.8017160270402851,\n",
              " 0.8178624542619573,\n",
              " 0.8317453662311334,\n",
              " 0.850306172881066,\n",
              " 0.837781406904456,\n",
              " 0.8416293644131648,\n",
              " 0.8438928796656608,\n",
              " 0.841025723504764,\n",
              " 0.8536260136719277,\n",
              " 0.850758857511031,\n",
              " 0.8527205523093265,\n",
              " 0.8469863320902044,\n",
              " 0.8734694421238728,\n",
              " 0.870300557611447,\n",
              " 0.8523432997672439,\n",
              " 0.8371777659960552,\n",
              " 0.8501552166026302,\n",
              " 0.8580020878984838,\n",
              " 0.8786001135372655,\n",
              " 0.891879384598041,\n",
              " 0.9265111863817634,\n",
              " 0.9265111863817634,\n",
              " 0.9360179320217121,\n",
              " 0.9263602301033275,\n",
              " 0.9295292067184246,\n",
              " 0.9311890810625199,\n",
              " 0.937602374277925,\n",
              " 0.9428084777792001,\n",
              " 0.9599357063486843,\n",
              " 0.9517871067013016,\n",
              " 0.9270393030996106,\n",
              " 0.9206260098842054,\n",
              " 0.9130809590425522,\n",
              " 0.9095348219880437,\n",
              " 0.9330753437729331,\n",
              " 0.9259829775612448,\n",
              " 0.9163253677455316,\n",
              " 0.9094593899001614,\n",
              " 0.9270393030996106,\n",
              " 0.9191169997158747,\n",
              " 0.9224368405067364,\n",
              " 0.9298310271726251,\n",
              " 0.9286237453558235,\n",
              " 0.919192431803757,\n",
              " 0.9150426538408477,\n",
              " 0.906894054193465,\n",
              " 0.9019897711463905,\n",
              " 0.9085539285375602,\n",
              " 0.9070449183692296,\n",
              " 0.900329804699624,\n",
              " 0.9155708626613662,\n",
              " 0.9119492014163042,\n",
              " 0.9153444742950481,\n",
              " 0.9141372845809179,\n",
              " 0.9209278303384058,\n",
              " 0.9396395932667743,\n",
              " 0.9510326016171363,\n",
              " 0.9300573234362719,\n",
              " 0.9378287626442432,\n",
              " 0.9354142911133113,\n",
              " 0.9502026644450887,\n",
              " 0.9599357063486843,\n",
              " 0.956465001382058,\n",
              " 0.9392623407246916,\n",
              " 0.9305100080662367,\n",
              " 0.9267374826454101,\n",
              " 0.928472881180059,\n",
              " 0.9294537746305425,\n",
              " 0.9197206406242755,\n",
              " 0.9444683521232952,\n",
              " 0.9293028183521066,\n",
              " 0.9190415676279925,\n",
              " 0.9281710607258585,\n",
              " 0.9320190182345675,\n",
              " 0.9249267441255505,\n",
              " 0.9448456046653778,\n",
              " 0.9497498877124525,\n",
              " 0.9542769182174444,\n",
              " 0.9999999999999999,\n",
              " 0.9984154656411156,\n",
              " 0.9827972472399621]"
            ]
          },
          "metadata": {},
          "execution_count": 43
        }
      ],
      "source": [
        "temp_input"
      ]
    },
    {
      "cell_type": "code",
      "execution_count": null,
      "metadata": {
        "id": "tXi-Ucm33QyK",
        "colab": {
          "base_uri": "https://localhost:8080/"
        },
        "outputId": "67dbba19-2811-4a8c-e7e9-39405ec0f042"
      },
      "outputs": [
        {
          "output_type": "stream",
          "name": "stdout",
          "text": [
            "[0.97218347]\n",
            "101\n",
            "1 day input [0.7133635  0.74807073 0.75312588 0.76202908 0.76534887 0.77138496\n",
            " 0.79424641 0.77953356 0.771234   0.78511692 0.78149525 0.7907757\n",
            " 0.77825094 0.76995138 0.77576103 0.77613829 0.78768225 0.80096152\n",
            " 0.80171603 0.81786245 0.83174537 0.85030617 0.83778141 0.84162936\n",
            " 0.84389288 0.84102572 0.85362601 0.85075886 0.85272055 0.84698633\n",
            " 0.87346944 0.87030056 0.8523433  0.83717777 0.85015522 0.85800209\n",
            " 0.87860011 0.89187938 0.92651119 0.92651119 0.93601793 0.92636023\n",
            " 0.92952921 0.93118908 0.93760237 0.94280848 0.95993571 0.95178711\n",
            " 0.9270393  0.92062601 0.91308096 0.90953482 0.93307534 0.92598298\n",
            " 0.91632537 0.90945939 0.9270393  0.919117   0.92243684 0.92983103\n",
            " 0.92862375 0.91919243 0.91504265 0.90689405 0.90198977 0.90855393\n",
            " 0.90704492 0.9003298  0.91557086 0.9119492  0.91534447 0.91413728\n",
            " 0.92092783 0.93963959 0.9510326  0.93005732 0.93782876 0.93541429\n",
            " 0.95020266 0.95993571 0.956465   0.93926234 0.93051001 0.92673748\n",
            " 0.92847288 0.92945377 0.91972064 0.94446835 0.92930282 0.91904157\n",
            " 0.92817106 0.93201902 0.92492674 0.9448456  0.94974989 0.95427692\n",
            " 1.         0.99841547 0.98279725 0.97218347]\n",
            "1 day output [[0.96912754]]\n",
            "2 day input [0.74807073 0.75312588 0.76202908 0.76534887 0.77138496 0.79424641\n",
            " 0.77953356 0.771234   0.78511692 0.78149525 0.7907757  0.77825094\n",
            " 0.76995138 0.77576103 0.77613829 0.78768225 0.80096152 0.80171603\n",
            " 0.81786245 0.83174537 0.85030617 0.83778141 0.84162936 0.84389288\n",
            " 0.84102572 0.85362601 0.85075886 0.85272055 0.84698633 0.87346944\n",
            " 0.87030056 0.8523433  0.83717777 0.85015522 0.85800209 0.87860011\n",
            " 0.89187938 0.92651119 0.92651119 0.93601793 0.92636023 0.92952921\n",
            " 0.93118908 0.93760237 0.94280848 0.95993571 0.95178711 0.9270393\n",
            " 0.92062601 0.91308096 0.90953482 0.93307534 0.92598298 0.91632537\n",
            " 0.90945939 0.9270393  0.919117   0.92243684 0.92983103 0.92862375\n",
            " 0.91919243 0.91504265 0.90689405 0.90198977 0.90855393 0.90704492\n",
            " 0.9003298  0.91557086 0.9119492  0.91534447 0.91413728 0.92092783\n",
            " 0.93963959 0.9510326  0.93005732 0.93782876 0.93541429 0.95020266\n",
            " 0.95993571 0.956465   0.93926234 0.93051001 0.92673748 0.92847288\n",
            " 0.92945377 0.91972064 0.94446835 0.92930282 0.91904157 0.92817106\n",
            " 0.93201902 0.92492674 0.9448456  0.94974989 0.95427692 1.\n",
            " 0.99841547 0.98279725 0.97218347 0.96912754]\n",
            "2 day output [[0.96573246]]\n",
            "3 day input [0.75312588 0.76202908 0.76534887 0.77138496 0.79424641 0.77953356\n",
            " 0.771234   0.78511692 0.78149525 0.7907757  0.77825094 0.76995138\n",
            " 0.77576103 0.77613829 0.78768225 0.80096152 0.80171603 0.81786245\n",
            " 0.83174537 0.85030617 0.83778141 0.84162936 0.84389288 0.84102572\n",
            " 0.85362601 0.85075886 0.85272055 0.84698633 0.87346944 0.87030056\n",
            " 0.8523433  0.83717777 0.85015522 0.85800209 0.87860011 0.89187938\n",
            " 0.92651119 0.92651119 0.93601793 0.92636023 0.92952921 0.93118908\n",
            " 0.93760237 0.94280848 0.95993571 0.95178711 0.9270393  0.92062601\n",
            " 0.91308096 0.90953482 0.93307534 0.92598298 0.91632537 0.90945939\n",
            " 0.9270393  0.919117   0.92243684 0.92983103 0.92862375 0.91919243\n",
            " 0.91504265 0.90689405 0.90198977 0.90855393 0.90704492 0.9003298\n",
            " 0.91557086 0.9119492  0.91534447 0.91413728 0.92092783 0.93963959\n",
            " 0.9510326  0.93005732 0.93782876 0.93541429 0.95020266 0.95993571\n",
            " 0.956465   0.93926234 0.93051001 0.92673748 0.92847288 0.92945377\n",
            " 0.91972064 0.94446835 0.92930282 0.91904157 0.92817106 0.93201902\n",
            " 0.92492674 0.9448456  0.94974989 0.95427692 1.         0.99841547\n",
            " 0.98279725 0.97218347 0.96912754 0.96573246]\n",
            "3 day output [[0.9601462]]\n",
            "4 day input [0.76202908 0.76534887 0.77138496 0.79424641 0.77953356 0.771234\n",
            " 0.78511692 0.78149525 0.7907757  0.77825094 0.76995138 0.77576103\n",
            " 0.77613829 0.78768225 0.80096152 0.80171603 0.81786245 0.83174537\n",
            " 0.85030617 0.83778141 0.84162936 0.84389288 0.84102572 0.85362601\n",
            " 0.85075886 0.85272055 0.84698633 0.87346944 0.87030056 0.8523433\n",
            " 0.83717777 0.85015522 0.85800209 0.87860011 0.89187938 0.92651119\n",
            " 0.92651119 0.93601793 0.92636023 0.92952921 0.93118908 0.93760237\n",
            " 0.94280848 0.95993571 0.95178711 0.9270393  0.92062601 0.91308096\n",
            " 0.90953482 0.93307534 0.92598298 0.91632537 0.90945939 0.9270393\n",
            " 0.919117   0.92243684 0.92983103 0.92862375 0.91919243 0.91504265\n",
            " 0.90689405 0.90198977 0.90855393 0.90704492 0.9003298  0.91557086\n",
            " 0.9119492  0.91534447 0.91413728 0.92092783 0.93963959 0.9510326\n",
            " 0.93005732 0.93782876 0.93541429 0.95020266 0.95993571 0.956465\n",
            " 0.93926234 0.93051001 0.92673748 0.92847288 0.92945377 0.91972064\n",
            " 0.94446835 0.92930282 0.91904157 0.92817106 0.93201902 0.92492674\n",
            " 0.9448456  0.94974989 0.95427692 1.         0.99841547 0.98279725\n",
            " 0.97218347 0.96912754 0.96573246 0.96014619]\n",
            "4 day output [[0.95501494]]\n",
            "5 day input [0.76534887 0.77138496 0.79424641 0.77953356 0.771234   0.78511692\n",
            " 0.78149525 0.7907757  0.77825094 0.76995138 0.77576103 0.77613829\n",
            " 0.78768225 0.80096152 0.80171603 0.81786245 0.83174537 0.85030617\n",
            " 0.83778141 0.84162936 0.84389288 0.84102572 0.85362601 0.85075886\n",
            " 0.85272055 0.84698633 0.87346944 0.87030056 0.8523433  0.83717777\n",
            " 0.85015522 0.85800209 0.87860011 0.89187938 0.92651119 0.92651119\n",
            " 0.93601793 0.92636023 0.92952921 0.93118908 0.93760237 0.94280848\n",
            " 0.95993571 0.95178711 0.9270393  0.92062601 0.91308096 0.90953482\n",
            " 0.93307534 0.92598298 0.91632537 0.90945939 0.9270393  0.919117\n",
            " 0.92243684 0.92983103 0.92862375 0.91919243 0.91504265 0.90689405\n",
            " 0.90198977 0.90855393 0.90704492 0.9003298  0.91557086 0.9119492\n",
            " 0.91534447 0.91413728 0.92092783 0.93963959 0.9510326  0.93005732\n",
            " 0.93782876 0.93541429 0.95020266 0.95993571 0.956465   0.93926234\n",
            " 0.93051001 0.92673748 0.92847288 0.92945377 0.91972064 0.94446835\n",
            " 0.92930282 0.91904157 0.92817106 0.93201902 0.92492674 0.9448456\n",
            " 0.94974989 0.95427692 1.         0.99841547 0.98279725 0.97218347\n",
            " 0.96912754 0.96573246 0.96014619 0.95501494]\n",
            "5 day output [[0.95068884]]\n",
            "6 day input [0.77138496 0.79424641 0.77953356 0.771234   0.78511692 0.78149525\n",
            " 0.7907757  0.77825094 0.76995138 0.77576103 0.77613829 0.78768225\n",
            " 0.80096152 0.80171603 0.81786245 0.83174537 0.85030617 0.83778141\n",
            " 0.84162936 0.84389288 0.84102572 0.85362601 0.85075886 0.85272055\n",
            " 0.84698633 0.87346944 0.87030056 0.8523433  0.83717777 0.85015522\n",
            " 0.85800209 0.87860011 0.89187938 0.92651119 0.92651119 0.93601793\n",
            " 0.92636023 0.92952921 0.93118908 0.93760237 0.94280848 0.95993571\n",
            " 0.95178711 0.9270393  0.92062601 0.91308096 0.90953482 0.93307534\n",
            " 0.92598298 0.91632537 0.90945939 0.9270393  0.919117   0.92243684\n",
            " 0.92983103 0.92862375 0.91919243 0.91504265 0.90689405 0.90198977\n",
            " 0.90855393 0.90704492 0.9003298  0.91557086 0.9119492  0.91534447\n",
            " 0.91413728 0.92092783 0.93963959 0.9510326  0.93005732 0.93782876\n",
            " 0.93541429 0.95020266 0.95993571 0.956465   0.93926234 0.93051001\n",
            " 0.92673748 0.92847288 0.92945377 0.91972064 0.94446835 0.92930282\n",
            " 0.91904157 0.92817106 0.93201902 0.92492674 0.9448456  0.94974989\n",
            " 0.95427692 1.         0.99841547 0.98279725 0.97218347 0.96912754\n",
            " 0.96573246 0.96014619 0.95501494 0.95068884]\n",
            "6 day output [[0.9467511]]\n",
            "7 day input [0.79424641 0.77953356 0.771234   0.78511692 0.78149525 0.7907757\n",
            " 0.77825094 0.76995138 0.77576103 0.77613829 0.78768225 0.80096152\n",
            " 0.80171603 0.81786245 0.83174537 0.85030617 0.83778141 0.84162936\n",
            " 0.84389288 0.84102572 0.85362601 0.85075886 0.85272055 0.84698633\n",
            " 0.87346944 0.87030056 0.8523433  0.83717777 0.85015522 0.85800209\n",
            " 0.87860011 0.89187938 0.92651119 0.92651119 0.93601793 0.92636023\n",
            " 0.92952921 0.93118908 0.93760237 0.94280848 0.95993571 0.95178711\n",
            " 0.9270393  0.92062601 0.91308096 0.90953482 0.93307534 0.92598298\n",
            " 0.91632537 0.90945939 0.9270393  0.919117   0.92243684 0.92983103\n",
            " 0.92862375 0.91919243 0.91504265 0.90689405 0.90198977 0.90855393\n",
            " 0.90704492 0.9003298  0.91557086 0.9119492  0.91534447 0.91413728\n",
            " 0.92092783 0.93963959 0.9510326  0.93005732 0.93782876 0.93541429\n",
            " 0.95020266 0.95993571 0.956465   0.93926234 0.93051001 0.92673748\n",
            " 0.92847288 0.92945377 0.91972064 0.94446835 0.92930282 0.91904157\n",
            " 0.92817106 0.93201902 0.92492674 0.9448456  0.94974989 0.95427692\n",
            " 1.         0.99841547 0.98279725 0.97218347 0.96912754 0.96573246\n",
            " 0.96014619 0.95501494 0.95068884 0.94675112]\n",
            "7 day output [[0.9431416]]\n",
            "8 day input [0.77953356 0.771234   0.78511692 0.78149525 0.7907757  0.77825094\n",
            " 0.76995138 0.77576103 0.77613829 0.78768225 0.80096152 0.80171603\n",
            " 0.81786245 0.83174537 0.85030617 0.83778141 0.84162936 0.84389288\n",
            " 0.84102572 0.85362601 0.85075886 0.85272055 0.84698633 0.87346944\n",
            " 0.87030056 0.8523433  0.83717777 0.85015522 0.85800209 0.87860011\n",
            " 0.89187938 0.92651119 0.92651119 0.93601793 0.92636023 0.92952921\n",
            " 0.93118908 0.93760237 0.94280848 0.95993571 0.95178711 0.9270393\n",
            " 0.92062601 0.91308096 0.90953482 0.93307534 0.92598298 0.91632537\n",
            " 0.90945939 0.9270393  0.919117   0.92243684 0.92983103 0.92862375\n",
            " 0.91919243 0.91504265 0.90689405 0.90198977 0.90855393 0.90704492\n",
            " 0.9003298  0.91557086 0.9119492  0.91534447 0.91413728 0.92092783\n",
            " 0.93963959 0.9510326  0.93005732 0.93782876 0.93541429 0.95020266\n",
            " 0.95993571 0.956465   0.93926234 0.93051001 0.92673748 0.92847288\n",
            " 0.92945377 0.91972064 0.94446835 0.92930282 0.91904157 0.92817106\n",
            " 0.93201902 0.92492674 0.9448456  0.94974989 0.95427692 1.\n",
            " 0.99841547 0.98279725 0.97218347 0.96912754 0.96573246 0.96014619\n",
            " 0.95501494 0.95068884 0.94675112 0.94314158]\n",
            "8 day output [[0.9399444]]\n",
            "9 day input [0.771234   0.78511692 0.78149525 0.7907757  0.77825094 0.76995138\n",
            " 0.77576103 0.77613829 0.78768225 0.80096152 0.80171603 0.81786245\n",
            " 0.83174537 0.85030617 0.83778141 0.84162936 0.84389288 0.84102572\n",
            " 0.85362601 0.85075886 0.85272055 0.84698633 0.87346944 0.87030056\n",
            " 0.8523433  0.83717777 0.85015522 0.85800209 0.87860011 0.89187938\n",
            " 0.92651119 0.92651119 0.93601793 0.92636023 0.92952921 0.93118908\n",
            " 0.93760237 0.94280848 0.95993571 0.95178711 0.9270393  0.92062601\n",
            " 0.91308096 0.90953482 0.93307534 0.92598298 0.91632537 0.90945939\n",
            " 0.9270393  0.919117   0.92243684 0.92983103 0.92862375 0.91919243\n",
            " 0.91504265 0.90689405 0.90198977 0.90855393 0.90704492 0.9003298\n",
            " 0.91557086 0.9119492  0.91534447 0.91413728 0.92092783 0.93963959\n",
            " 0.9510326  0.93005732 0.93782876 0.93541429 0.95020266 0.95993571\n",
            " 0.956465   0.93926234 0.93051001 0.92673748 0.92847288 0.92945377\n",
            " 0.91972064 0.94446835 0.92930282 0.91904157 0.92817106 0.93201902\n",
            " 0.92492674 0.9448456  0.94974989 0.95427692 1.         0.99841547\n",
            " 0.98279725 0.97218347 0.96912754 0.96573246 0.96014619 0.95501494\n",
            " 0.95068884 0.94675112 0.94314158 0.93994439]\n",
            "9 day output [[0.9371147]]\n",
            "10 day input [0.78511692 0.78149525 0.7907757  0.77825094 0.76995138 0.77576103\n",
            " 0.77613829 0.78768225 0.80096152 0.80171603 0.81786245 0.83174537\n",
            " 0.85030617 0.83778141 0.84162936 0.84389288 0.84102572 0.85362601\n",
            " 0.85075886 0.85272055 0.84698633 0.87346944 0.87030056 0.8523433\n",
            " 0.83717777 0.85015522 0.85800209 0.87860011 0.89187938 0.92651119\n",
            " 0.92651119 0.93601793 0.92636023 0.92952921 0.93118908 0.93760237\n",
            " 0.94280848 0.95993571 0.95178711 0.9270393  0.92062601 0.91308096\n",
            " 0.90953482 0.93307534 0.92598298 0.91632537 0.90945939 0.9270393\n",
            " 0.919117   0.92243684 0.92983103 0.92862375 0.91919243 0.91504265\n",
            " 0.90689405 0.90198977 0.90855393 0.90704492 0.9003298  0.91557086\n",
            " 0.9119492  0.91534447 0.91413728 0.92092783 0.93963959 0.9510326\n",
            " 0.93005732 0.93782876 0.93541429 0.95020266 0.95993571 0.956465\n",
            " 0.93926234 0.93051001 0.92673748 0.92847288 0.92945377 0.91972064\n",
            " 0.94446835 0.92930282 0.91904157 0.92817106 0.93201902 0.92492674\n",
            " 0.9448456  0.94974989 0.95427692 1.         0.99841547 0.98279725\n",
            " 0.97218347 0.96912754 0.96573246 0.96014619 0.95501494 0.95068884\n",
            " 0.94675112 0.94314158 0.93994439 0.93711472]\n",
            "10 day output [[0.9345622]]\n",
            "11 day input [0.78149525 0.7907757  0.77825094 0.76995138 0.77576103 0.77613829\n",
            " 0.78768225 0.80096152 0.80171603 0.81786245 0.83174537 0.85030617\n",
            " 0.83778141 0.84162936 0.84389288 0.84102572 0.85362601 0.85075886\n",
            " 0.85272055 0.84698633 0.87346944 0.87030056 0.8523433  0.83717777\n",
            " 0.85015522 0.85800209 0.87860011 0.89187938 0.92651119 0.92651119\n",
            " 0.93601793 0.92636023 0.92952921 0.93118908 0.93760237 0.94280848\n",
            " 0.95993571 0.95178711 0.9270393  0.92062601 0.91308096 0.90953482\n",
            " 0.93307534 0.92598298 0.91632537 0.90945939 0.9270393  0.919117\n",
            " 0.92243684 0.92983103 0.92862375 0.91919243 0.91504265 0.90689405\n",
            " 0.90198977 0.90855393 0.90704492 0.9003298  0.91557086 0.9119492\n",
            " 0.91534447 0.91413728 0.92092783 0.93963959 0.9510326  0.93005732\n",
            " 0.93782876 0.93541429 0.95020266 0.95993571 0.956465   0.93926234\n",
            " 0.93051001 0.92673748 0.92847288 0.92945377 0.91972064 0.94446835\n",
            " 0.92930282 0.91904157 0.92817106 0.93201902 0.92492674 0.9448456\n",
            " 0.94974989 0.95427692 1.         0.99841547 0.98279725 0.97218347\n",
            " 0.96912754 0.96573246 0.96014619 0.95501494 0.95068884 0.94675112\n",
            " 0.94314158 0.93994439 0.93711472 0.93456221]\n",
            "11 day output [[0.9322214]]\n",
            "12 day input [0.7907757  0.77825094 0.76995138 0.77576103 0.77613829 0.78768225\n",
            " 0.80096152 0.80171603 0.81786245 0.83174537 0.85030617 0.83778141\n",
            " 0.84162936 0.84389288 0.84102572 0.85362601 0.85075886 0.85272055\n",
            " 0.84698633 0.87346944 0.87030056 0.8523433  0.83717777 0.85015522\n",
            " 0.85800209 0.87860011 0.89187938 0.92651119 0.92651119 0.93601793\n",
            " 0.92636023 0.92952921 0.93118908 0.93760237 0.94280848 0.95993571\n",
            " 0.95178711 0.9270393  0.92062601 0.91308096 0.90953482 0.93307534\n",
            " 0.92598298 0.91632537 0.90945939 0.9270393  0.919117   0.92243684\n",
            " 0.92983103 0.92862375 0.91919243 0.91504265 0.90689405 0.90198977\n",
            " 0.90855393 0.90704492 0.9003298  0.91557086 0.9119492  0.91534447\n",
            " 0.91413728 0.92092783 0.93963959 0.9510326  0.93005732 0.93782876\n",
            " 0.93541429 0.95020266 0.95993571 0.956465   0.93926234 0.93051001\n",
            " 0.92673748 0.92847288 0.92945377 0.91972064 0.94446835 0.92930282\n",
            " 0.91904157 0.92817106 0.93201902 0.92492674 0.9448456  0.94974989\n",
            " 0.95427692 1.         0.99841547 0.98279725 0.97218347 0.96912754\n",
            " 0.96573246 0.96014619 0.95501494 0.95068884 0.94675112 0.94314158\n",
            " 0.93994439 0.93711472 0.93456221 0.93222141]\n",
            "12 day output [[0.9300425]]\n",
            "13 day input [0.77825094 0.76995138 0.77576103 0.77613829 0.78768225 0.80096152\n",
            " 0.80171603 0.81786245 0.83174537 0.85030617 0.83778141 0.84162936\n",
            " 0.84389288 0.84102572 0.85362601 0.85075886 0.85272055 0.84698633\n",
            " 0.87346944 0.87030056 0.8523433  0.83717777 0.85015522 0.85800209\n",
            " 0.87860011 0.89187938 0.92651119 0.92651119 0.93601793 0.92636023\n",
            " 0.92952921 0.93118908 0.93760237 0.94280848 0.95993571 0.95178711\n",
            " 0.9270393  0.92062601 0.91308096 0.90953482 0.93307534 0.92598298\n",
            " 0.91632537 0.90945939 0.9270393  0.919117   0.92243684 0.92983103\n",
            " 0.92862375 0.91919243 0.91504265 0.90689405 0.90198977 0.90855393\n",
            " 0.90704492 0.9003298  0.91557086 0.9119492  0.91534447 0.91413728\n",
            " 0.92092783 0.93963959 0.9510326  0.93005732 0.93782876 0.93541429\n",
            " 0.95020266 0.95993571 0.956465   0.93926234 0.93051001 0.92673748\n",
            " 0.92847288 0.92945377 0.91972064 0.94446835 0.92930282 0.91904157\n",
            " 0.92817106 0.93201902 0.92492674 0.9448456  0.94974989 0.95427692\n",
            " 1.         0.99841547 0.98279725 0.97218347 0.96912754 0.96573246\n",
            " 0.96014619 0.95501494 0.95068884 0.94675112 0.94314158 0.93994439\n",
            " 0.93711472 0.93456221 0.93222141 0.93004251]\n",
            "13 day output [[0.9279791]]\n",
            "14 day input [0.76995138 0.77576103 0.77613829 0.78768225 0.80096152 0.80171603\n",
            " 0.81786245 0.83174537 0.85030617 0.83778141 0.84162936 0.84389288\n",
            " 0.84102572 0.85362601 0.85075886 0.85272055 0.84698633 0.87346944\n",
            " 0.87030056 0.8523433  0.83717777 0.85015522 0.85800209 0.87860011\n",
            " 0.89187938 0.92651119 0.92651119 0.93601793 0.92636023 0.92952921\n",
            " 0.93118908 0.93760237 0.94280848 0.95993571 0.95178711 0.9270393\n",
            " 0.92062601 0.91308096 0.90953482 0.93307534 0.92598298 0.91632537\n",
            " 0.90945939 0.9270393  0.919117   0.92243684 0.92983103 0.92862375\n",
            " 0.91919243 0.91504265 0.90689405 0.90198977 0.90855393 0.90704492\n",
            " 0.9003298  0.91557086 0.9119492  0.91534447 0.91413728 0.92092783\n",
            " 0.93963959 0.9510326  0.93005732 0.93782876 0.93541429 0.95020266\n",
            " 0.95993571 0.956465   0.93926234 0.93051001 0.92673748 0.92847288\n",
            " 0.92945377 0.91972064 0.94446835 0.92930282 0.91904157 0.92817106\n",
            " 0.93201902 0.92492674 0.9448456  0.94974989 0.95427692 1.\n",
            " 0.99841547 0.98279725 0.97218347 0.96912754 0.96573246 0.96014619\n",
            " 0.95501494 0.95068884 0.94675112 0.94314158 0.93994439 0.93711472\n",
            " 0.93456221 0.93222141 0.93004251 0.92797911]\n",
            "14 day output [[0.92599344]]\n",
            "15 day input [0.77576103 0.77613829 0.78768225 0.80096152 0.80171603 0.81786245\n",
            " 0.83174537 0.85030617 0.83778141 0.84162936 0.84389288 0.84102572\n",
            " 0.85362601 0.85075886 0.85272055 0.84698633 0.87346944 0.87030056\n",
            " 0.8523433  0.83717777 0.85015522 0.85800209 0.87860011 0.89187938\n",
            " 0.92651119 0.92651119 0.93601793 0.92636023 0.92952921 0.93118908\n",
            " 0.93760237 0.94280848 0.95993571 0.95178711 0.9270393  0.92062601\n",
            " 0.91308096 0.90953482 0.93307534 0.92598298 0.91632537 0.90945939\n",
            " 0.9270393  0.919117   0.92243684 0.92983103 0.92862375 0.91919243\n",
            " 0.91504265 0.90689405 0.90198977 0.90855393 0.90704492 0.9003298\n",
            " 0.91557086 0.9119492  0.91534447 0.91413728 0.92092783 0.93963959\n",
            " 0.9510326  0.93005732 0.93782876 0.93541429 0.95020266 0.95993571\n",
            " 0.956465   0.93926234 0.93051001 0.92673748 0.92847288 0.92945377\n",
            " 0.91972064 0.94446835 0.92930282 0.91904157 0.92817106 0.93201902\n",
            " 0.92492674 0.9448456  0.94974989 0.95427692 1.         0.99841547\n",
            " 0.98279725 0.97218347 0.96912754 0.96573246 0.96014619 0.95501494\n",
            " 0.95068884 0.94675112 0.94314158 0.93994439 0.93711472 0.93456221\n",
            " 0.93222141 0.93004251 0.92797911 0.92599344]\n",
            "15 day output [[0.9240601]]\n",
            "16 day input [0.77613829 0.78768225 0.80096152 0.80171603 0.81786245 0.83174537\n",
            " 0.85030617 0.83778141 0.84162936 0.84389288 0.84102572 0.85362601\n",
            " 0.85075886 0.85272055 0.84698633 0.87346944 0.87030056 0.8523433\n",
            " 0.83717777 0.85015522 0.85800209 0.87860011 0.89187938 0.92651119\n",
            " 0.92651119 0.93601793 0.92636023 0.92952921 0.93118908 0.93760237\n",
            " 0.94280848 0.95993571 0.95178711 0.9270393  0.92062601 0.91308096\n",
            " 0.90953482 0.93307534 0.92598298 0.91632537 0.90945939 0.9270393\n",
            " 0.919117   0.92243684 0.92983103 0.92862375 0.91919243 0.91504265\n",
            " 0.90689405 0.90198977 0.90855393 0.90704492 0.9003298  0.91557086\n",
            " 0.9119492  0.91534447 0.91413728 0.92092783 0.93963959 0.9510326\n",
            " 0.93005732 0.93782876 0.93541429 0.95020266 0.95993571 0.956465\n",
            " 0.93926234 0.93051001 0.92673748 0.92847288 0.92945377 0.91972064\n",
            " 0.94446835 0.92930282 0.91904157 0.92817106 0.93201902 0.92492674\n",
            " 0.9448456  0.94974989 0.95427692 1.         0.99841547 0.98279725\n",
            " 0.97218347 0.96912754 0.96573246 0.96014619 0.95501494 0.95068884\n",
            " 0.94675112 0.94314158 0.93994439 0.93711472 0.93456221 0.93222141\n",
            " 0.93004251 0.92797911 0.92599344 0.92406011]\n",
            "16 day output [[0.9221628]]\n",
            "17 day input [0.78768225 0.80096152 0.80171603 0.81786245 0.83174537 0.85030617\n",
            " 0.83778141 0.84162936 0.84389288 0.84102572 0.85362601 0.85075886\n",
            " 0.85272055 0.84698633 0.87346944 0.87030056 0.8523433  0.83717777\n",
            " 0.85015522 0.85800209 0.87860011 0.89187938 0.92651119 0.92651119\n",
            " 0.93601793 0.92636023 0.92952921 0.93118908 0.93760237 0.94280848\n",
            " 0.95993571 0.95178711 0.9270393  0.92062601 0.91308096 0.90953482\n",
            " 0.93307534 0.92598298 0.91632537 0.90945939 0.9270393  0.919117\n",
            " 0.92243684 0.92983103 0.92862375 0.91919243 0.91504265 0.90689405\n",
            " 0.90198977 0.90855393 0.90704492 0.9003298  0.91557086 0.9119492\n",
            " 0.91534447 0.91413728 0.92092783 0.93963959 0.9510326  0.93005732\n",
            " 0.93782876 0.93541429 0.95020266 0.95993571 0.956465   0.93926234\n",
            " 0.93051001 0.92673748 0.92847288 0.92945377 0.91972064 0.94446835\n",
            " 0.92930282 0.91904157 0.92817106 0.93201902 0.92492674 0.9448456\n",
            " 0.94974989 0.95427692 1.         0.99841547 0.98279725 0.97218347\n",
            " 0.96912754 0.96573246 0.96014619 0.95501494 0.95068884 0.94675112\n",
            " 0.94314158 0.93994439 0.93711472 0.93456221 0.93222141 0.93004251\n",
            " 0.92797911 0.92599344 0.92406011 0.92216277]\n",
            "17 day output [[0.92029274]]\n",
            "18 day input [0.80096152 0.80171603 0.81786245 0.83174537 0.85030617 0.83778141\n",
            " 0.84162936 0.84389288 0.84102572 0.85362601 0.85075886 0.85272055\n",
            " 0.84698633 0.87346944 0.87030056 0.8523433  0.83717777 0.85015522\n",
            " 0.85800209 0.87860011 0.89187938 0.92651119 0.92651119 0.93601793\n",
            " 0.92636023 0.92952921 0.93118908 0.93760237 0.94280848 0.95993571\n",
            " 0.95178711 0.9270393  0.92062601 0.91308096 0.90953482 0.93307534\n",
            " 0.92598298 0.91632537 0.90945939 0.9270393  0.919117   0.92243684\n",
            " 0.92983103 0.92862375 0.91919243 0.91504265 0.90689405 0.90198977\n",
            " 0.90855393 0.90704492 0.9003298  0.91557086 0.9119492  0.91534447\n",
            " 0.91413728 0.92092783 0.93963959 0.9510326  0.93005732 0.93782876\n",
            " 0.93541429 0.95020266 0.95993571 0.956465   0.93926234 0.93051001\n",
            " 0.92673748 0.92847288 0.92945377 0.91972064 0.94446835 0.92930282\n",
            " 0.91904157 0.92817106 0.93201902 0.92492674 0.9448456  0.94974989\n",
            " 0.95427692 1.         0.99841547 0.98279725 0.97218347 0.96912754\n",
            " 0.96573246 0.96014619 0.95501494 0.95068884 0.94675112 0.94314158\n",
            " 0.93994439 0.93711472 0.93456221 0.93222141 0.93004251 0.92797911\n",
            " 0.92599344 0.92406011 0.92216277 0.92029274]\n",
            "18 day output [[0.91844606]]\n",
            "19 day input [0.80171603 0.81786245 0.83174537 0.85030617 0.83778141 0.84162936\n",
            " 0.84389288 0.84102572 0.85362601 0.85075886 0.85272055 0.84698633\n",
            " 0.87346944 0.87030056 0.8523433  0.83717777 0.85015522 0.85800209\n",
            " 0.87860011 0.89187938 0.92651119 0.92651119 0.93601793 0.92636023\n",
            " 0.92952921 0.93118908 0.93760237 0.94280848 0.95993571 0.95178711\n",
            " 0.9270393  0.92062601 0.91308096 0.90953482 0.93307534 0.92598298\n",
            " 0.91632537 0.90945939 0.9270393  0.919117   0.92243684 0.92983103\n",
            " 0.92862375 0.91919243 0.91504265 0.90689405 0.90198977 0.90855393\n",
            " 0.90704492 0.9003298  0.91557086 0.9119492  0.91534447 0.91413728\n",
            " 0.92092783 0.93963959 0.9510326  0.93005732 0.93782876 0.93541429\n",
            " 0.95020266 0.95993571 0.956465   0.93926234 0.93051001 0.92673748\n",
            " 0.92847288 0.92945377 0.91972064 0.94446835 0.92930282 0.91904157\n",
            " 0.92817106 0.93201902 0.92492674 0.9448456  0.94974989 0.95427692\n",
            " 1.         0.99841547 0.98279725 0.97218347 0.96912754 0.96573246\n",
            " 0.96014619 0.95501494 0.95068884 0.94675112 0.94314158 0.93994439\n",
            " 0.93711472 0.93456221 0.93222141 0.93004251 0.92797911 0.92599344\n",
            " 0.92406011 0.92216277 0.92029274 0.91844606]\n",
            "19 day output [[0.9166235]]\n",
            "20 day input [0.81786245 0.83174537 0.85030617 0.83778141 0.84162936 0.84389288\n",
            " 0.84102572 0.85362601 0.85075886 0.85272055 0.84698633 0.87346944\n",
            " 0.87030056 0.8523433  0.83717777 0.85015522 0.85800209 0.87860011\n",
            " 0.89187938 0.92651119 0.92651119 0.93601793 0.92636023 0.92952921\n",
            " 0.93118908 0.93760237 0.94280848 0.95993571 0.95178711 0.9270393\n",
            " 0.92062601 0.91308096 0.90953482 0.93307534 0.92598298 0.91632537\n",
            " 0.90945939 0.9270393  0.919117   0.92243684 0.92983103 0.92862375\n",
            " 0.91919243 0.91504265 0.90689405 0.90198977 0.90855393 0.90704492\n",
            " 0.9003298  0.91557086 0.9119492  0.91534447 0.91413728 0.92092783\n",
            " 0.93963959 0.9510326  0.93005732 0.93782876 0.93541429 0.95020266\n",
            " 0.95993571 0.956465   0.93926234 0.93051001 0.92673748 0.92847288\n",
            " 0.92945377 0.91972064 0.94446835 0.92930282 0.91904157 0.92817106\n",
            " 0.93201902 0.92492674 0.9448456  0.94974989 0.95427692 1.\n",
            " 0.99841547 0.98279725 0.97218347 0.96912754 0.96573246 0.96014619\n",
            " 0.95501494 0.95068884 0.94675112 0.94314158 0.93994439 0.93711472\n",
            " 0.93456221 0.93222141 0.93004251 0.92797911 0.92599344 0.92406011\n",
            " 0.92216277 0.92029274 0.91844606 0.91662347]\n",
            "20 day output [[0.9148264]]\n",
            "21 day input [0.83174537 0.85030617 0.83778141 0.84162936 0.84389288 0.84102572\n",
            " 0.85362601 0.85075886 0.85272055 0.84698633 0.87346944 0.87030056\n",
            " 0.8523433  0.83717777 0.85015522 0.85800209 0.87860011 0.89187938\n",
            " 0.92651119 0.92651119 0.93601793 0.92636023 0.92952921 0.93118908\n",
            " 0.93760237 0.94280848 0.95993571 0.95178711 0.9270393  0.92062601\n",
            " 0.91308096 0.90953482 0.93307534 0.92598298 0.91632537 0.90945939\n",
            " 0.9270393  0.919117   0.92243684 0.92983103 0.92862375 0.91919243\n",
            " 0.91504265 0.90689405 0.90198977 0.90855393 0.90704492 0.9003298\n",
            " 0.91557086 0.9119492  0.91534447 0.91413728 0.92092783 0.93963959\n",
            " 0.9510326  0.93005732 0.93782876 0.93541429 0.95020266 0.95993571\n",
            " 0.956465   0.93926234 0.93051001 0.92673748 0.92847288 0.92945377\n",
            " 0.91972064 0.94446835 0.92930282 0.91904157 0.92817106 0.93201902\n",
            " 0.92492674 0.9448456  0.94974989 0.95427692 1.         0.99841547\n",
            " 0.98279725 0.97218347 0.96912754 0.96573246 0.96014619 0.95501494\n",
            " 0.95068884 0.94675112 0.94314158 0.93994439 0.93711472 0.93456221\n",
            " 0.93222141 0.93004251 0.92797911 0.92599344 0.92406011 0.92216277\n",
            " 0.92029274 0.91844606 0.91662347 0.91482639]\n",
            "21 day output [[0.91305876]]\n",
            "22 day input [0.85030617 0.83778141 0.84162936 0.84389288 0.84102572 0.85362601\n",
            " 0.85075886 0.85272055 0.84698633 0.87346944 0.87030056 0.8523433\n",
            " 0.83717777 0.85015522 0.85800209 0.87860011 0.89187938 0.92651119\n",
            " 0.92651119 0.93601793 0.92636023 0.92952921 0.93118908 0.93760237\n",
            " 0.94280848 0.95993571 0.95178711 0.9270393  0.92062601 0.91308096\n",
            " 0.90953482 0.93307534 0.92598298 0.91632537 0.90945939 0.9270393\n",
            " 0.919117   0.92243684 0.92983103 0.92862375 0.91919243 0.91504265\n",
            " 0.90689405 0.90198977 0.90855393 0.90704492 0.9003298  0.91557086\n",
            " 0.9119492  0.91534447 0.91413728 0.92092783 0.93963959 0.9510326\n",
            " 0.93005732 0.93782876 0.93541429 0.95020266 0.95993571 0.956465\n",
            " 0.93926234 0.93051001 0.92673748 0.92847288 0.92945377 0.91972064\n",
            " 0.94446835 0.92930282 0.91904157 0.92817106 0.93201902 0.92492674\n",
            " 0.9448456  0.94974989 0.95427692 1.         0.99841547 0.98279725\n",
            " 0.97218347 0.96912754 0.96573246 0.96014619 0.95501494 0.95068884\n",
            " 0.94675112 0.94314158 0.93994439 0.93711472 0.93456221 0.93222141\n",
            " 0.93004251 0.92797911 0.92599344 0.92406011 0.92216277 0.92029274\n",
            " 0.91844606 0.91662347 0.91482639 0.91305876]\n",
            "22 day output [[0.9113238]]\n",
            "23 day input [0.83778141 0.84162936 0.84389288 0.84102572 0.85362601 0.85075886\n",
            " 0.85272055 0.84698633 0.87346944 0.87030056 0.8523433  0.83717777\n",
            " 0.85015522 0.85800209 0.87860011 0.89187938 0.92651119 0.92651119\n",
            " 0.93601793 0.92636023 0.92952921 0.93118908 0.93760237 0.94280848\n",
            " 0.95993571 0.95178711 0.9270393  0.92062601 0.91308096 0.90953482\n",
            " 0.93307534 0.92598298 0.91632537 0.90945939 0.9270393  0.919117\n",
            " 0.92243684 0.92983103 0.92862375 0.91919243 0.91504265 0.90689405\n",
            " 0.90198977 0.90855393 0.90704492 0.9003298  0.91557086 0.9119492\n",
            " 0.91534447 0.91413728 0.92092783 0.93963959 0.9510326  0.93005732\n",
            " 0.93782876 0.93541429 0.95020266 0.95993571 0.956465   0.93926234\n",
            " 0.93051001 0.92673748 0.92847288 0.92945377 0.91972064 0.94446835\n",
            " 0.92930282 0.91904157 0.92817106 0.93201902 0.92492674 0.9448456\n",
            " 0.94974989 0.95427692 1.         0.99841547 0.98279725 0.97218347\n",
            " 0.96912754 0.96573246 0.96014619 0.95501494 0.95068884 0.94675112\n",
            " 0.94314158 0.93994439 0.93711472 0.93456221 0.93222141 0.93004251\n",
            " 0.92797911 0.92599344 0.92406011 0.92216277 0.92029274 0.91844606\n",
            " 0.91662347 0.91482639 0.91305876 0.91132379]\n",
            "23 day output [[0.90962386]]\n",
            "24 day input [0.84162936 0.84389288 0.84102572 0.85362601 0.85075886 0.85272055\n",
            " 0.84698633 0.87346944 0.87030056 0.8523433  0.83717777 0.85015522\n",
            " 0.85800209 0.87860011 0.89187938 0.92651119 0.92651119 0.93601793\n",
            " 0.92636023 0.92952921 0.93118908 0.93760237 0.94280848 0.95993571\n",
            " 0.95178711 0.9270393  0.92062601 0.91308096 0.90953482 0.93307534\n",
            " 0.92598298 0.91632537 0.90945939 0.9270393  0.919117   0.92243684\n",
            " 0.92983103 0.92862375 0.91919243 0.91504265 0.90689405 0.90198977\n",
            " 0.90855393 0.90704492 0.9003298  0.91557086 0.9119492  0.91534447\n",
            " 0.91413728 0.92092783 0.93963959 0.9510326  0.93005732 0.93782876\n",
            " 0.93541429 0.95020266 0.95993571 0.956465   0.93926234 0.93051001\n",
            " 0.92673748 0.92847288 0.92945377 0.91972064 0.94446835 0.92930282\n",
            " 0.91904157 0.92817106 0.93201902 0.92492674 0.9448456  0.94974989\n",
            " 0.95427692 1.         0.99841547 0.98279725 0.97218347 0.96912754\n",
            " 0.96573246 0.96014619 0.95501494 0.95068884 0.94675112 0.94314158\n",
            " 0.93994439 0.93711472 0.93456221 0.93222141 0.93004251 0.92797911\n",
            " 0.92599344 0.92406011 0.92216277 0.92029274 0.91844606 0.91662347\n",
            " 0.91482639 0.91305876 0.91132379 0.90962386]\n",
            "24 day output [[0.9079608]]\n",
            "25 day input [0.84389288 0.84102572 0.85362601 0.85075886 0.85272055 0.84698633\n",
            " 0.87346944 0.87030056 0.8523433  0.83717777 0.85015522 0.85800209\n",
            " 0.87860011 0.89187938 0.92651119 0.92651119 0.93601793 0.92636023\n",
            " 0.92952921 0.93118908 0.93760237 0.94280848 0.95993571 0.95178711\n",
            " 0.9270393  0.92062601 0.91308096 0.90953482 0.93307534 0.92598298\n",
            " 0.91632537 0.90945939 0.9270393  0.919117   0.92243684 0.92983103\n",
            " 0.92862375 0.91919243 0.91504265 0.90689405 0.90198977 0.90855393\n",
            " 0.90704492 0.9003298  0.91557086 0.9119492  0.91534447 0.91413728\n",
            " 0.92092783 0.93963959 0.9510326  0.93005732 0.93782876 0.93541429\n",
            " 0.95020266 0.95993571 0.956465   0.93926234 0.93051001 0.92673748\n",
            " 0.92847288 0.92945377 0.91972064 0.94446835 0.92930282 0.91904157\n",
            " 0.92817106 0.93201902 0.92492674 0.9448456  0.94974989 0.95427692\n",
            " 1.         0.99841547 0.98279725 0.97218347 0.96912754 0.96573246\n",
            " 0.96014619 0.95501494 0.95068884 0.94675112 0.94314158 0.93994439\n",
            " 0.93711472 0.93456221 0.93222141 0.93004251 0.92797911 0.92599344\n",
            " 0.92406011 0.92216277 0.92029274 0.91844606 0.91662347 0.91482639\n",
            " 0.91305876 0.91132379 0.90962386 0.90796077]\n",
            "25 day output [[0.906335]]\n",
            "26 day input [0.84102572 0.85362601 0.85075886 0.85272055 0.84698633 0.87346944\n",
            " 0.87030056 0.8523433  0.83717777 0.85015522 0.85800209 0.87860011\n",
            " 0.89187938 0.92651119 0.92651119 0.93601793 0.92636023 0.92952921\n",
            " 0.93118908 0.93760237 0.94280848 0.95993571 0.95178711 0.9270393\n",
            " 0.92062601 0.91308096 0.90953482 0.93307534 0.92598298 0.91632537\n",
            " 0.90945939 0.9270393  0.919117   0.92243684 0.92983103 0.92862375\n",
            " 0.91919243 0.91504265 0.90689405 0.90198977 0.90855393 0.90704492\n",
            " 0.9003298  0.91557086 0.9119492  0.91534447 0.91413728 0.92092783\n",
            " 0.93963959 0.9510326  0.93005732 0.93782876 0.93541429 0.95020266\n",
            " 0.95993571 0.956465   0.93926234 0.93051001 0.92673748 0.92847288\n",
            " 0.92945377 0.91972064 0.94446835 0.92930282 0.91904157 0.92817106\n",
            " 0.93201902 0.92492674 0.9448456  0.94974989 0.95427692 1.\n",
            " 0.99841547 0.98279725 0.97218347 0.96912754 0.96573246 0.96014619\n",
            " 0.95501494 0.95068884 0.94675112 0.94314158 0.93994439 0.93711472\n",
            " 0.93456221 0.93222141 0.93004251 0.92797911 0.92599344 0.92406011\n",
            " 0.92216277 0.92029274 0.91844606 0.91662347 0.91482639 0.91305876\n",
            " 0.91132379 0.90962386 0.90796077 0.906335  ]\n",
            "26 day output [[0.90474737]]\n",
            "27 day input [0.85362601 0.85075886 0.85272055 0.84698633 0.87346944 0.87030056\n",
            " 0.8523433  0.83717777 0.85015522 0.85800209 0.87860011 0.89187938\n",
            " 0.92651119 0.92651119 0.93601793 0.92636023 0.92952921 0.93118908\n",
            " 0.93760237 0.94280848 0.95993571 0.95178711 0.9270393  0.92062601\n",
            " 0.91308096 0.90953482 0.93307534 0.92598298 0.91632537 0.90945939\n",
            " 0.9270393  0.919117   0.92243684 0.92983103 0.92862375 0.91919243\n",
            " 0.91504265 0.90689405 0.90198977 0.90855393 0.90704492 0.9003298\n",
            " 0.91557086 0.9119492  0.91534447 0.91413728 0.92092783 0.93963959\n",
            " 0.9510326  0.93005732 0.93782876 0.93541429 0.95020266 0.95993571\n",
            " 0.956465   0.93926234 0.93051001 0.92673748 0.92847288 0.92945377\n",
            " 0.91972064 0.94446835 0.92930282 0.91904157 0.92817106 0.93201902\n",
            " 0.92492674 0.9448456  0.94974989 0.95427692 1.         0.99841547\n",
            " 0.98279725 0.97218347 0.96912754 0.96573246 0.96014619 0.95501494\n",
            " 0.95068884 0.94675112 0.94314158 0.93994439 0.93711472 0.93456221\n",
            " 0.93222141 0.93004251 0.92797911 0.92599344 0.92406011 0.92216277\n",
            " 0.92029274 0.91844606 0.91662347 0.91482639 0.91305876 0.91132379\n",
            " 0.90962386 0.90796077 0.906335   0.90474737]\n",
            "27 day output [[0.90319514]]\n",
            "28 day input [0.85075886 0.85272055 0.84698633 0.87346944 0.87030056 0.8523433\n",
            " 0.83717777 0.85015522 0.85800209 0.87860011 0.89187938 0.92651119\n",
            " 0.92651119 0.93601793 0.92636023 0.92952921 0.93118908 0.93760237\n",
            " 0.94280848 0.95993571 0.95178711 0.9270393  0.92062601 0.91308096\n",
            " 0.90953482 0.93307534 0.92598298 0.91632537 0.90945939 0.9270393\n",
            " 0.919117   0.92243684 0.92983103 0.92862375 0.91919243 0.91504265\n",
            " 0.90689405 0.90198977 0.90855393 0.90704492 0.9003298  0.91557086\n",
            " 0.9119492  0.91534447 0.91413728 0.92092783 0.93963959 0.9510326\n",
            " 0.93005732 0.93782876 0.93541429 0.95020266 0.95993571 0.956465\n",
            " 0.93926234 0.93051001 0.92673748 0.92847288 0.92945377 0.91972064\n",
            " 0.94446835 0.92930282 0.91904157 0.92817106 0.93201902 0.92492674\n",
            " 0.9448456  0.94974989 0.95427692 1.         0.99841547 0.98279725\n",
            " 0.97218347 0.96912754 0.96573246 0.96014619 0.95501494 0.95068884\n",
            " 0.94675112 0.94314158 0.93994439 0.93711472 0.93456221 0.93222141\n",
            " 0.93004251 0.92797911 0.92599344 0.92406011 0.92216277 0.92029274\n",
            " 0.91844606 0.91662347 0.91482639 0.91305876 0.91132379 0.90962386\n",
            " 0.90796077 0.906335   0.90474737 0.90319514]\n",
            "28 day output [[0.90167737]]\n",
            "29 day input [0.85272055 0.84698633 0.87346944 0.87030056 0.8523433  0.83717777\n",
            " 0.85015522 0.85800209 0.87860011 0.89187938 0.92651119 0.92651119\n",
            " 0.93601793 0.92636023 0.92952921 0.93118908 0.93760237 0.94280848\n",
            " 0.95993571 0.95178711 0.9270393  0.92062601 0.91308096 0.90953482\n",
            " 0.93307534 0.92598298 0.91632537 0.90945939 0.9270393  0.919117\n",
            " 0.92243684 0.92983103 0.92862375 0.91919243 0.91504265 0.90689405\n",
            " 0.90198977 0.90855393 0.90704492 0.9003298  0.91557086 0.9119492\n",
            " 0.91534447 0.91413728 0.92092783 0.93963959 0.9510326  0.93005732\n",
            " 0.93782876 0.93541429 0.95020266 0.95993571 0.956465   0.93926234\n",
            " 0.93051001 0.92673748 0.92847288 0.92945377 0.91972064 0.94446835\n",
            " 0.92930282 0.91904157 0.92817106 0.93201902 0.92492674 0.9448456\n",
            " 0.94974989 0.95427692 1.         0.99841547 0.98279725 0.97218347\n",
            " 0.96912754 0.96573246 0.96014619 0.95501494 0.95068884 0.94675112\n",
            " 0.94314158 0.93994439 0.93711472 0.93456221 0.93222141 0.93004251\n",
            " 0.92797911 0.92599344 0.92406011 0.92216277 0.92029274 0.91844606\n",
            " 0.91662347 0.91482639 0.91305876 0.91132379 0.90962386 0.90796077\n",
            " 0.906335   0.90474737 0.90319514 0.90167737]\n",
            "29 day output [[0.90019155]]\n",
            "[[0.9721834659576416], [0.9691275358200073], [0.9657324552536011], [0.9601461887359619], [0.9550149440765381], [0.9506888389587402], [0.9467511177062988], [0.9431415796279907], [0.9399443864822388], [0.9371147155761719], [0.9345622062683105], [0.9322214126586914], [0.9300425052642822], [0.9279791116714478], [0.9259934425354004], [0.9240601062774658], [0.9221627712249756], [0.9202927350997925], [0.9184460639953613], [0.9166234731674194], [0.9148263931274414], [0.9130587577819824], [0.9113237857818604], [0.9096238613128662], [0.9079607725143433], [0.9063349962234497], [0.9047473669052124], [0.9031951427459717], [0.9016773700714111], [0.9001915454864502]]\n"
          ]
        }
      ],
      "source": [
        "# demonstrate prediction for next 10 days\n",
        "from numpy import array\n",
        "\n",
        "lst_output=[]\n",
        "n_steps=100\n",
        "i=0\n",
        "while(i<30):\n",
        "\n",
        "    if(len(temp_input)>100):\n",
        "        #print(temp_input)\n",
        "        x_input=np.array(temp_input[1:])\n",
        "        print(\"{} day input {}\".format(i,x_input))\n",
        "        x_input=x_input.reshape(1,-1)\n",
        "        x_input = x_input.reshape((1, n_steps, 1))\n",
        "        #print(x_input)\n",
        "        yhat = model.predict(x_input, verbose=0)\n",
        "        print(\"{} day output {}\".format(i,yhat))\n",
        "        temp_input.extend(yhat[0].tolist())\n",
        "        temp_input=temp_input[1:]\n",
        "        #print(temp_input)\n",
        "        lst_output.extend(yhat.tolist())\n",
        "        i=i+1\n",
        "    else:\n",
        "        x_input = x_input.reshape((1, n_steps,1))\n",
        "        yhat = model.predict(x_input, verbose=0)\n",
        "        print(yhat[0])\n",
        "        temp_input.extend(yhat[0].tolist())\n",
        "        print(len(temp_input))\n",
        "        lst_output.extend(yhat.tolist())\n",
        "        i=i+1\n",
        "\n",
        "\n",
        "print(lst_output)"
      ]
    },
    {
      "cell_type": "code",
      "execution_count": null,
      "metadata": {
        "id": "qWH47Fty3Q0m"
      },
      "outputs": [],
      "source": [
        "day_new=np.arange(1,101)\n",
        "day_pred=np.arange(101,131)"
      ]
    },
    {
      "cell_type": "code",
      "execution_count": null,
      "metadata": {
        "id": "G9KKcx_k3Q3A"
      },
      "outputs": [],
      "source": [
        "#import matplotlib.pyplot as plt"
      ]
    },
    {
      "cell_type": "code",
      "execution_count": null,
      "metadata": {
        "id": "pqUbvajn3Q5g",
        "colab": {
          "base_uri": "https://localhost:8080/"
        },
        "outputId": "84bc5f78-72f0-48a7-b169-fd1b7299cc0c"
      },
      "outputs": [
        {
          "output_type": "execute_result",
          "data": {
            "text/plain": [
              "5916"
            ]
          },
          "metadata": {},
          "execution_count": 46
        }
      ],
      "source": [
        "len(df1)"
      ]
    },
    {
      "cell_type": "code",
      "execution_count": null,
      "metadata": {
        "id": "U8v9zFmA3bLq",
        "colab": {
          "base_uri": "https://localhost:8080/",
          "height": 449
        },
        "outputId": "e408359f-9bb4-405e-95b5-cfae59b24f2e"
      },
      "outputs": [
        {
          "output_type": "execute_result",
          "data": {
            "text/plain": [
              "[<matplotlib.lines.Line2D at 0x78e3e5ad0820>]"
            ]
          },
          "metadata": {},
          "execution_count": 48
        },
        {
          "output_type": "display_data",
          "data": {
            "text/plain": [
              "<Figure size 640x480 with 1 Axes>"
            ],
            "image/png": "[encoded data removed]"
          },
          "metadata": {}
        }
      ],
      "source": [
        "plt.plot(day_new,scaler.inverse_transform(df1[5816:]))\n",
        "plt.plot(day_pred,scaler.inverse_transform(lst_output))\n",
        "# 30 Day Output"
      ]
    }
  ],
  "metadata": {
    "colab": {
      "provenance": [],
      "authorship_tag": "ABX9TyPcVPg4uSihkaLzLQNLeE48",
      "include_colab_link": true
    },
    "kernelspec": {
      "display_name": "Python 3",
      "name": "python3"
    },
    "language_info": {
      "name": "python"
    }
  },
  "nbformat": 4,
  "nbformat_minor": 0
}